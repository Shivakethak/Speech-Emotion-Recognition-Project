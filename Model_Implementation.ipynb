{
  "cells": [
    {
      "cell_type": "code",
      "execution_count": 1,
      "metadata": {
        "colab": {
          "base_uri": "https://localhost:8080/"
        },
        "collapsed": true,
        "id": "8nYS9qahzAQ_",
        "outputId": "3c56dbc0-e3c5-466b-bf1a-a0c8626e8fc9"
      },
      "outputs": [
        {
          "name": "stdout",
          "output_type": "stream",
          "text": [
            "Mounted at /content/drive\n"
          ]
        }
      ],
      "source": [
        "from google.colab import drive\n",
        "drive.mount('/content/drive', force_remount = True)"
      ]
    },
    {
      "cell_type": "code",
      "execution_count": 2,
      "metadata": {
        "id": "K31C-zTfZdFa"
      },
      "outputs": [],
      "source": [
        "%%capture\n",
        "!pip install pydub\n",
        "!pip install noisereduce\n",
        "!pip install json-tricks"
      ]
    },
    {
      "cell_type": "code",
      "execution_count": 3,
      "metadata": {
        "id": "li2EfZXmQehM"
      },
      "outputs": [],
      "source": [
        "%%capture\n",
        "import numpy as np\n",
        "import os\n",
        "from json_tricks import dump, load\n",
        "\n",
        "from pydub import AudioSegment, effects\n",
        "import librosa\n",
        "import noisereduce as nr\n",
        "\n",
        "import tensorflow as tf\n",
        "import keras\n",
        "import sklearn"
      ]
    },
    {
      "cell_type": "code",
      "execution_count": 4,
      "metadata": {
        "id": "lUMWt35lTQQL"
      },
      "outputs": [],
      "source": [
        "# Emotion kind validation function for TESS database, due to emotions written within the file names.\n",
        "def find_emotion_T(name): \n",
        "        if('neutral' in name): return \"01\"\n",
        "        elif('happy' in name): return \"03\"\n",
        "        elif('sad' in name): return \"04\"\n",
        "        elif('angry' in name): return \"05\"\n",
        "        elif('fear' in name): return \"06\"\n",
        "        elif('disgust' in name): return \"07\"\n",
        "        elif('ps' in name): return \"08\"\n",
        "        else: return \"-1\"\n",
        "        \n",
        "        \n",
        "# 'emotions' list fix for classification purposes:\n",
        "#     Classification values start from 0, Thus an 'n = n-1' operation has been executed for both RAVDESS and TESS databases:\n",
        "def emotionfix(e_num):\n",
        "    if e_num == \"01\":   return 0 # neutral\n",
        "    elif e_num == \"02\": return 1 # calm\n",
        "    elif e_num == \"03\": return 2 # happy\n",
        "    elif e_num == \"04\": return 3 # sad\n",
        "    elif e_num == \"05\": return 4 # angry\n",
        "    elif e_num == \"06\": return 5 # fear\n",
        "    elif e_num == \"07\": return 6 # disgust\n",
        "    else:               return 7 # suprised"
      ]
    },
    {
      "cell_type": "code",
      "execution_count": 5,
      "metadata": {
        "colab": {
          "base_uri": "https://localhost:8080/"
        },
        "id": "ydC8v5SNra-0",
        "outputId": "28b21766-48e9-4ed1-defa-140dfb4792b2"
      },
      "outputs": [
        {
          "name": "stdout",
          "output_type": "stream",
          "text": [
            "Maximum sample length: 173056\n"
          ]
        }
      ],
      "source": [
        "# Maximum samples count for padding purposes.\n",
        "\n",
        "sample_lengths = []\n",
        "folder_path = '/content/drive/My Drive/AudioFiles'\n",
        "\n",
        "for subdir, dirs, files in os.walk(folder_path):\n",
        "  for file in files: \n",
        "    x, sr = librosa.load(path = os.path.join(subdir,file), sr = None)\n",
        "    xt, index = librosa.effects.trim(x, top_db=30)\n",
        "     \n",
        "    sample_lengths.append(len(xt))\n",
        "\n",
        "print('Maximum sample length:', np.max(sample_lengths))                   "
      ]
    },
    {
      "cell_type": "code",
      "execution_count": 24,
      "metadata": {
        "colab": {
          "base_uri": "https://localhost:8080/"
        },
        "id": "WHsU4Noi1n_q",
        "outputId": "b7242b34-01d9-4668-9dfb-24542cfe7645"
      },
      "outputs": [
        {
          "name": "stdout",
          "output_type": "stream",
          "text": [
            "Running time: 12.7427 minutes\n"
          ]
        }
      ],
      "source": [
        "import time\n",
        "tic = time.perf_counter()\n",
        "\n",
        "# Initialize data lists\n",
        "rms = []\n",
        "zcr = []\n",
        "mfcc = []\n",
        "emotions = []\n",
        "\n",
        "# Initialize variables\n",
        "total_length = 173056 # desired frame length for all of the audio samples.\n",
        "frame_length = 2048\n",
        "hop_length = 512\n",
        "\n",
        "folder_path = '/content/drive/My Drive/AudioFiles' \n",
        "\n",
        "for subdir, dirs, files in os.walk(folder_path):\n",
        "  for file in files: \n",
        "\n",
        "    # Fetch the sample rate.\n",
        "      _, sr = librosa.load(path = os.path.join(subdir,file), sr = None) # sr (the sample rate) is used for librosa's MFCCs. '_' is irrelevant.\n",
        "    # Load the audio file.\n",
        "      rawsound = AudioSegment.from_file(os.path.join(subdir,file)) \n",
        "    # Normalize the audio to +5.0 dBFS.\n",
        "      normalizedsound = effects.normalize(rawsound, headroom = 0) \n",
        "    # Transform the normalized audio to np.array of samples.\n",
        "      normal_x = np.array(normalizedsound.get_array_of_samples(), dtype = 'float32')\n",
        "    # Trim silence from the beginning and the end.\n",
        "      xt, index = librosa.effects.trim(normal_x, top_db=30)\n",
        "      #print(file,\"\\t\", len(xt), \"\\t\", rawsound.dBFS, \"\\t\", normalizedsound.dBFS) #--QA purposes if needed-- \n",
        "    # Pad for duration equalization.\n",
        "      padded_x = np.pad(xt, (0, total_length-len(xt)), 'constant')\n",
        "    # Noise reduction.\n",
        "      final_x = nr.reduce_noise(padded_x, sr=sr) #updated 03/03/22\n",
        "       \n",
        "   # Features extraction \n",
        "      f1 = librosa.feature.rms(final_x, frame_length=frame_length, hop_length=hop_length) # Energy - Root Mean Square   \n",
        "      f2 = librosa.feature.zero_crossing_rate(final_x , frame_length=frame_length, hop_length=hop_length, center=True) # ZCR      \n",
        "      f3 = librosa.feature.mfcc(final_x, sr=sr, n_mfcc=13, hop_length = hop_length) # MFCC\n",
        "      \n",
        "   # Emotion extraction from the different databases\n",
        "      if (find_emotion_T(file) != \"-1\"): #TESS database validation\n",
        "            name = find_emotion_T(file)\n",
        "      else:                              #RAVDESS database validation\n",
        "            name = file[6:8]                      \n",
        "\n",
        "   # Filling the data lists  \n",
        "      rms.append(f1)\n",
        "      zcr.append(f2)\n",
        "      mfcc.append(f3)\n",
        "      emotions.append(emotionfix(name)) \n",
        "\n",
        "toc = time.perf_counter()\n",
        "print(f\"Running time: {(toc - tic)/60:0.4f} minutes\")"
      ]
    },
    {
      "cell_type": "markdown",
      "metadata": {
        "id": "HmOguACr9pIf"
      },
      "source": [
        "**X, Y Setup**"
      ]
    },
    {
      "cell_type": "code",
      "execution_count": 25,
      "metadata": {
        "colab": {
          "base_uri": "https://localhost:8080/"
        },
        "id": "DFP_FOZsp6qO",
        "outputId": "6cea5cd1-da8c-4502-8373-7aec1d75a2a7"
      },
      "outputs": [
        {
          "name": "stdout",
          "output_type": "stream",
          "text": [
            "ZCR shape: (4232, 339, 1)\n",
            "RMS shape: (4232, 339, 1)\n",
            "MFCCs shape: (4232, 339, 13)\n"
          ]
        }
      ],
      "source": [
        "# Adjusting features shape to the 3D format: (batch, timesteps, feature)\n",
        "\n",
        "f_rms = np.asarray(rms).astype('float32')\n",
        "f_rms = np.swapaxes(f_rms,1,2)\n",
        "f_zcr = np.asarray(zcr).astype('float32')\n",
        "f_zcr = np.swapaxes(f_zcr,1,2)\n",
        "f_mfccs = np.asarray(mfcc).astype('float32')\n",
        "f_mfccs = np.swapaxes(f_mfccs,1,2)\n",
        "\n",
        "print('ZCR shape:',f_zcr.shape)\n",
        "print('RMS shape:',f_rms.shape)\n",
        "print('MFCCs shape:',f_mfccs.shape)"
      ]
    },
    {
      "cell_type": "code",
      "execution_count": 27,
      "metadata": {
        "id": "wSpXqgJqMHvR"
      },
      "outputs": [],
      "source": [
        "# Concatenating all features to 'X' variable.\n",
        "X = np.concatenate((f_zcr, f_rms, f_mfccs), axis=2)\n",
        "\n",
        "# Preparing 'Y' as a 2D shaped variable.\n",
        "Y = np.asarray(emotions).astype('int8')\n",
        "Y = np.expand_dims(Y, axis=1)"
      ]
    },
    {
      "cell_type": "markdown",
      "metadata": {
        "id": "jpg1XU6Zkimi"
      },
      "source": [
        "**Save & Load X,Y to JSON files**"
      ]
    },
    {
      "cell_type": "code",
      "execution_count": null,
      "metadata": {
        "id": "JZR2SoDp61pR"
      },
      "outputs": [],
      "source": [
        "# Save X,Y arrays as lists to json files.\n",
        "\n",
        "x_data = X.tolist() \n",
        "x_path = '/content/drive/My Drive/Colab Notebooks/X_datanew.json' # FILE SAVE PATH\n",
        "dump(obj = x_data, fp = x_path)\n",
        "\n",
        "y_data = Y.tolist() \n",
        "y_path = '/content/drive/My Drive/Colab Notebooks/Y_datanew.json' # FILE SAVE PATH\n",
        "dump(obj = y_data, fp = y_path)\n"
      ]
    },
    {
      "cell_type": "code",
      "execution_count": null,
      "metadata": {
        "id": "oy53CmsODtSQ"
      },
      "outputs": [],
      "source": [
        "# Load X,Y json files back into lists, convert to np.arrays\n",
        "\n",
        "x_path = '/content/drive/My Drive/Colab Notebooks/X_datanew.json' # FILE LOAD PATH\n",
        "X = load(x_path)\n",
        "X = np.asarray(X, dtype = 'float32')\n",
        "\n",
        "y_path = '/content/drive/My Drive/Colab Notebooks/Y_datanew.json' # FILE LOAD PATH\n",
        "Y = load(y_path)\n",
        "Y = np.asarray(Y, dtype = 'int8')"
      ]
    },
    {
      "cell_type": "markdown",
      "metadata": {
        "id": "jA32m2iU962I"
      },
      "source": [
        "\n",
        "*   **Split X, Y To Train, Validation, and Test Sets**\n",
        "*   **y_train and y_val conversion to One-Hot vectors.**\n",
        "\n"
      ]
    },
    {
      "cell_type": "code",
      "execution_count": 28,
      "metadata": {
        "id": "h1Photkwq-bw"
      },
      "outputs": [],
      "source": [
        "# Split to train, validation, and test sets.\n",
        "from sklearn.model_selection import train_test_split\n",
        "x_train, x_tosplit, y_train, y_tosplit = train_test_split(X, Y, test_size = 0.125, random_state = 1)\n",
        "x_val, x_test, y_val, y_test = train_test_split(x_tosplit, y_tosplit, test_size = 0.304, random_state = 1)\n",
        "\n",
        "#'One-hot' vectors for Y: emotion classification\n",
        "y_train_class = tf.keras.utils.to_categorical(y_train, 8, dtype = 'int8')\n",
        "y_val_class = tf.keras.utils.to_categorical(y_val, 8, dtype = 'int8')"
      ]
    },
    {
      "cell_type": "code",
      "execution_count": 29,
      "metadata": {
        "colab": {
          "base_uri": "https://localhost:8080/"
        },
        "id": "NgRlZBJbMHvX",
        "outputId": "e8f0a462-16c6-47f5-94ea-5731fcbc4cbe"
      },
      "outputs": [
        {
          "name": "stdout",
          "output_type": "stream",
          "text": [
            "(3703, 339, 15)\n",
            "(368, 339, 15)\n",
            "(161, 339, 15)\n"
          ]
        }
      ],
      "source": [
        "# x_train, x_val, and x_test shape check.\n",
        "print(np.shape(x_train))\n",
        "print(np.shape(x_val))\n",
        "print(np.shape(x_test))"
      ]
    },
    {
      "cell_type": "code",
      "execution_count": null,
      "metadata": {
        "id": "aW4qJ9VogZJ2"
      },
      "outputs": [],
      "source": [
        "# Save x_test, y_test to JSON.\n",
        "\n",
        "file_path = 'x_test_data.json'\n",
        "dump(obj = x_test, fp = file_path)\n",
        "\n",
        "file_path = 'y_test_data.json'\n",
        "dump(obj = y_test, fp = file_path)"
      ]
    },
    {
      "cell_type": "markdown",
      "metadata": {
        "id": "GFUGooln77sW"
      },
      "source": [
        "# **MODEL DEFINITION & TRAIN**\n",
        "The model is executed with keras library, using 2 hidden LSTM layers with 64 nodes, and an output (dense) layer with 8 nodes, each for one emotion using the 'softmax' activation.\n",
        "The optimizer that led to the best results was 'RMSProp' with default parameters.\n",
        "\n",
        "The batch size chosen is 23, which is a factor of all samples in the sets; train (3703), validation (368) and test (161)."
      ]
    },
    {
      "cell_type": "code",
      "execution_count": null,
      "metadata": {
        "id": "1ROkmISHZCkM"
      },
      "outputs": [],
      "source": [
        "from keras.models import Sequential\n",
        "from keras import layers\n",
        "from keras import optimizers\n",
        "from keras import callbacks "
      ]
    },
    {
      "cell_type": "code",
      "execution_count": null,
      "metadata": {
        "colab": {
          "base_uri": "https://localhost:8080/"
        },
        "id": "3DroQ71fXxPN",
        "outputId": "54379fcf-9f63-4568-84c0-5e388d86b86a"
      },
      "outputs": [
        {
          "name": "stdout",
          "output_type": "stream",
          "text": [
            "Model: \"sequential\"\n",
            "_________________________________________________________________\n",
            "Layer (type)                 Output Shape              Param #   \n",
            "=================================================================\n",
            "lstm (LSTM)                  (None, 339, 64)           20480     \n",
            "_________________________________________________________________\n",
            "lstm_1 (LSTM)                (None, 64)                33024     \n",
            "_________________________________________________________________\n",
            "dense (Dense)                (None, 8)                 520       \n",
            "=================================================================\n",
            "Total params: 54,024\n",
            "Trainable params: 54,024\n",
            "Non-trainable params: 0\n",
            "_________________________________________________________________\n",
            "None\n",
            "Epoch 1/340\n",
            "161/161 [==============================] - 48s 282ms/step - loss: 2.0356 - categorical_accuracy: 0.1570 - val_loss: 1.9072 - val_categorical_accuracy: 0.2554\n",
            "Epoch 2/340\n",
            "161/161 [==============================] - 45s 280ms/step - loss: 1.8714 - categorical_accuracy: 0.2473 - val_loss: 1.8605 - val_categorical_accuracy: 0.2446\n",
            "Epoch 3/340\n",
            "161/161 [==============================] - 45s 282ms/step - loss: 1.7950 - categorical_accuracy: 0.2689 - val_loss: 1.6995 - val_categorical_accuracy: 0.2908\n",
            "Epoch 4/340\n",
            "161/161 [==============================] - 45s 280ms/step - loss: 1.7201 - categorical_accuracy: 0.2982 - val_loss: 1.6390 - val_categorical_accuracy: 0.3641\n",
            "Epoch 5/340\n",
            "161/161 [==============================] - 45s 279ms/step - loss: 1.6715 - categorical_accuracy: 0.3161 - val_loss: 1.6007 - val_categorical_accuracy: 0.3016\n",
            "Epoch 6/340\n",
            "161/161 [==============================] - 45s 281ms/step - loss: 1.6539 - categorical_accuracy: 0.3342 - val_loss: 1.6418 - val_categorical_accuracy: 0.3125\n",
            "Epoch 7/340\n",
            "161/161 [==============================] - 45s 278ms/step - loss: 1.6341 - categorical_accuracy: 0.3646 - val_loss: 1.5977 - val_categorical_accuracy: 0.3505\n",
            "Epoch 8/340\n",
            "161/161 [==============================] - 45s 279ms/step - loss: 1.6259 - categorical_accuracy: 0.3577 - val_loss: 1.5843 - val_categorical_accuracy: 0.3723\n",
            "Epoch 9/340\n",
            "161/161 [==============================] - 45s 278ms/step - loss: 1.6288 - categorical_accuracy: 0.3733 - val_loss: 1.5182 - val_categorical_accuracy: 0.3859\n",
            "Epoch 10/340\n",
            "161/161 [==============================] - 44s 275ms/step - loss: 1.5751 - categorical_accuracy: 0.3945 - val_loss: 1.6842 - val_categorical_accuracy: 0.2826\n",
            "Epoch 11/340\n",
            "161/161 [==============================] - 45s 276ms/step - loss: 1.5613 - categorical_accuracy: 0.3978 - val_loss: 1.5831 - val_categorical_accuracy: 0.3940\n",
            "Epoch 12/340\n",
            "161/161 [==============================] - 45s 278ms/step - loss: 1.5607 - categorical_accuracy: 0.3924 - val_loss: 1.4965 - val_categorical_accuracy: 0.3696\n",
            "Epoch 13/340\n",
            "161/161 [==============================] - 45s 278ms/step - loss: 1.5327 - categorical_accuracy: 0.4134 - val_loss: 1.4960 - val_categorical_accuracy: 0.4239\n",
            "Epoch 14/340\n",
            "161/161 [==============================] - 45s 277ms/step - loss: 1.5129 - categorical_accuracy: 0.4059 - val_loss: 1.4503 - val_categorical_accuracy: 0.4402\n",
            "Epoch 15/340\n",
            "161/161 [==============================] - 44s 276ms/step - loss: 1.5179 - categorical_accuracy: 0.4070 - val_loss: 1.4515 - val_categorical_accuracy: 0.4049\n",
            "Epoch 16/340\n",
            "161/161 [==============================] - 44s 275ms/step - loss: 1.4780 - categorical_accuracy: 0.4345 - val_loss: 1.4601 - val_categorical_accuracy: 0.4158\n",
            "Epoch 17/340\n",
            "161/161 [==============================] - 44s 273ms/step - loss: 1.4991 - categorical_accuracy: 0.4332 - val_loss: 1.4483 - val_categorical_accuracy: 0.4103\n",
            "Epoch 18/340\n",
            "161/161 [==============================] - 45s 278ms/step - loss: 1.4584 - categorical_accuracy: 0.4359 - val_loss: 1.4693 - val_categorical_accuracy: 0.4049\n",
            "Epoch 19/340\n",
            "161/161 [==============================] - 45s 278ms/step - loss: 1.4925 - categorical_accuracy: 0.4283 - val_loss: 1.4493 - val_categorical_accuracy: 0.4321\n",
            "Epoch 20/340\n",
            "161/161 [==============================] - 45s 277ms/step - loss: 1.4698 - categorical_accuracy: 0.4322 - val_loss: 1.4598 - val_categorical_accuracy: 0.4266\n",
            "Epoch 21/340\n",
            "161/161 [==============================] - 44s 273ms/step - loss: 1.4559 - categorical_accuracy: 0.4209 - val_loss: 1.3728 - val_categorical_accuracy: 0.4457\n",
            "Epoch 22/340\n",
            "161/161 [==============================] - 44s 276ms/step - loss: 1.4569 - categorical_accuracy: 0.4179 - val_loss: 1.4330 - val_categorical_accuracy: 0.4212\n",
            "Epoch 23/340\n",
            "161/161 [==============================] - 45s 276ms/step - loss: 1.3978 - categorical_accuracy: 0.4567 - val_loss: 1.4192 - val_categorical_accuracy: 0.3913\n",
            "Epoch 24/340\n",
            "161/161 [==============================] - 45s 278ms/step - loss: 1.4240 - categorical_accuracy: 0.4391 - val_loss: 1.3544 - val_categorical_accuracy: 0.4538\n",
            "Epoch 25/340\n",
            "161/161 [==============================] - 45s 278ms/step - loss: 1.3928 - categorical_accuracy: 0.4653 - val_loss: 1.3347 - val_categorical_accuracy: 0.4837\n",
            "Epoch 26/340\n",
            "161/161 [==============================] - 44s 274ms/step - loss: 1.4154 - categorical_accuracy: 0.4543 - val_loss: 1.3367 - val_categorical_accuracy: 0.4674\n",
            "Epoch 27/340\n",
            "161/161 [==============================] - 44s 273ms/step - loss: 1.4057 - categorical_accuracy: 0.4578 - val_loss: 1.3993 - val_categorical_accuracy: 0.4402\n",
            "Epoch 28/340\n",
            "161/161 [==============================] - 44s 273ms/step - loss: 1.3490 - categorical_accuracy: 0.4829 - val_loss: 1.3145 - val_categorical_accuracy: 0.4891\n",
            "Epoch 29/340\n",
            "161/161 [==============================] - 45s 279ms/step - loss: 1.3533 - categorical_accuracy: 0.4744 - val_loss: 1.6672 - val_categorical_accuracy: 0.3750\n",
            "Epoch 30/340\n",
            "161/161 [==============================] - 45s 279ms/step - loss: 1.3751 - categorical_accuracy: 0.4750 - val_loss: 1.3254 - val_categorical_accuracy: 0.4783\n",
            "Epoch 31/340\n",
            "161/161 [==============================] - 44s 275ms/step - loss: 1.3897 - categorical_accuracy: 0.4760 - val_loss: 1.4024 - val_categorical_accuracy: 0.4402\n",
            "Epoch 32/340\n",
            "161/161 [==============================] - 44s 274ms/step - loss: 1.3564 - categorical_accuracy: 0.4674 - val_loss: 1.5444 - val_categorical_accuracy: 0.3832\n",
            "Epoch 33/340\n",
            "161/161 [==============================] - 45s 278ms/step - loss: 1.3798 - categorical_accuracy: 0.4625 - val_loss: 1.3145 - val_categorical_accuracy: 0.4810\n",
            "Epoch 34/340\n",
            "161/161 [==============================] - 45s 280ms/step - loss: 1.3143 - categorical_accuracy: 0.4951 - val_loss: 1.5473 - val_categorical_accuracy: 0.3967\n",
            "Epoch 35/340\n",
            "161/161 [==============================] - 45s 278ms/step - loss: 1.3149 - categorical_accuracy: 0.5013 - val_loss: 1.3882 - val_categorical_accuracy: 0.4511\n",
            "Epoch 36/340\n",
            "161/161 [==============================] - 45s 278ms/step - loss: 1.2932 - categorical_accuracy: 0.5000 - val_loss: 1.4354 - val_categorical_accuracy: 0.4212\n",
            "Epoch 37/340\n",
            "161/161 [==============================] - 44s 274ms/step - loss: 1.2916 - categorical_accuracy: 0.5081 - val_loss: 1.3685 - val_categorical_accuracy: 0.4755\n",
            "Epoch 38/340\n",
            "161/161 [==============================] - 44s 273ms/step - loss: 1.2734 - categorical_accuracy: 0.5163 - val_loss: 1.3381 - val_categorical_accuracy: 0.4429\n",
            "Epoch 39/340\n",
            "161/161 [==============================] - 45s 277ms/step - loss: 1.2823 - categorical_accuracy: 0.5087 - val_loss: 1.2278 - val_categorical_accuracy: 0.5163\n",
            "Epoch 40/340\n",
            "161/161 [==============================] - 45s 278ms/step - loss: 1.2555 - categorical_accuracy: 0.5261 - val_loss: 1.2991 - val_categorical_accuracy: 0.4783\n",
            "Epoch 41/340\n",
            "161/161 [==============================] - 45s 277ms/step - loss: 1.2806 - categorical_accuracy: 0.5286 - val_loss: 1.2782 - val_categorical_accuracy: 0.5272\n",
            "Epoch 42/340\n",
            "161/161 [==============================] - 45s 277ms/step - loss: 1.1924 - categorical_accuracy: 0.5518 - val_loss: 1.2414 - val_categorical_accuracy: 0.5136\n",
            "Epoch 43/340\n",
            "161/161 [==============================] - 45s 278ms/step - loss: 1.2565 - categorical_accuracy: 0.5146 - val_loss: 1.2626 - val_categorical_accuracy: 0.5245\n",
            "Epoch 44/340\n",
            "161/161 [==============================] - 44s 274ms/step - loss: 1.2047 - categorical_accuracy: 0.5413 - val_loss: 1.1323 - val_categorical_accuracy: 0.5652\n",
            "Epoch 45/340\n",
            "161/161 [==============================] - 44s 276ms/step - loss: 1.1820 - categorical_accuracy: 0.5396 - val_loss: 1.1409 - val_categorical_accuracy: 0.5625\n",
            "Epoch 46/340\n",
            "161/161 [==============================] - 44s 276ms/step - loss: 1.1587 - categorical_accuracy: 0.5546 - val_loss: 1.2248 - val_categorical_accuracy: 0.5489\n",
            "Epoch 47/340\n",
            "161/161 [==============================] - 44s 276ms/step - loss: 1.1449 - categorical_accuracy: 0.5622 - val_loss: 1.2402 - val_categorical_accuracy: 0.5326\n",
            "Epoch 48/340\n",
            "161/161 [==============================] - 44s 272ms/step - loss: 1.1282 - categorical_accuracy: 0.5791 - val_loss: 1.2138 - val_categorical_accuracy: 0.5245\n",
            "Epoch 49/340\n",
            "161/161 [==============================] - 44s 274ms/step - loss: 1.0965 - categorical_accuracy: 0.5952 - val_loss: 1.2469 - val_categorical_accuracy: 0.5571\n",
            "Epoch 50/340\n",
            "161/161 [==============================] - 44s 276ms/step - loss: 1.1065 - categorical_accuracy: 0.5805 - val_loss: 1.0948 - val_categorical_accuracy: 0.6060\n",
            "Epoch 51/340\n",
            "161/161 [==============================] - 44s 276ms/step - loss: 1.1237 - categorical_accuracy: 0.5860 - val_loss: 1.1963 - val_categorical_accuracy: 0.5489\n",
            "Epoch 52/340\n",
            "161/161 [==============================] - 45s 279ms/step - loss: 1.1169 - categorical_accuracy: 0.5914 - val_loss: 1.1634 - val_categorical_accuracy: 0.5734\n",
            "Epoch 53/340\n",
            "161/161 [==============================] - 45s 277ms/step - loss: 1.1145 - categorical_accuracy: 0.5854 - val_loss: 1.2157 - val_categorical_accuracy: 0.5408\n",
            "Epoch 54/340\n",
            "161/161 [==============================] - 44s 272ms/step - loss: 1.0964 - categorical_accuracy: 0.6029 - val_loss: 1.2698 - val_categorical_accuracy: 0.5245\n",
            "Epoch 55/340\n",
            "161/161 [==============================] - 44s 275ms/step - loss: 1.0184 - categorical_accuracy: 0.6257 - val_loss: 1.0995 - val_categorical_accuracy: 0.5924\n",
            "Epoch 56/340\n",
            "161/161 [==============================] - 45s 280ms/step - loss: 0.9821 - categorical_accuracy: 0.6373 - val_loss: 0.9877 - val_categorical_accuracy: 0.6495\n",
            "Epoch 57/340\n",
            "161/161 [==============================] - 45s 280ms/step - loss: 1.0002 - categorical_accuracy: 0.6426 - val_loss: 1.0124 - val_categorical_accuracy: 0.6359\n",
            "Epoch 58/340\n",
            "161/161 [==============================] - 44s 276ms/step - loss: 0.9841 - categorical_accuracy: 0.6318 - val_loss: 1.1075 - val_categorical_accuracy: 0.6060\n",
            "Epoch 59/340\n",
            "161/161 [==============================] - 44s 275ms/step - loss: 0.9234 - categorical_accuracy: 0.6655 - val_loss: 0.9856 - val_categorical_accuracy: 0.6495\n",
            "Epoch 60/340\n",
            "161/161 [==============================] - 45s 277ms/step - loss: 0.9612 - categorical_accuracy: 0.6498 - val_loss: 0.9045 - val_categorical_accuracy: 0.6685\n",
            "Epoch 61/340\n",
            "161/161 [==============================] - 44s 276ms/step - loss: 0.9181 - categorical_accuracy: 0.6694 - val_loss: 0.9006 - val_categorical_accuracy: 0.6522\n",
            "Epoch 62/340\n",
            "161/161 [==============================] - 45s 279ms/step - loss: 0.9060 - categorical_accuracy: 0.6883 - val_loss: 0.9692 - val_categorical_accuracy: 0.6413\n",
            "Epoch 63/340\n",
            "161/161 [==============================] - 45s 277ms/step - loss: 0.8395 - categorical_accuracy: 0.7029 - val_loss: 0.8979 - val_categorical_accuracy: 0.6712\n",
            "Epoch 64/340\n",
            "161/161 [==============================] - 45s 278ms/step - loss: 0.8405 - categorical_accuracy: 0.6981 - val_loss: 0.9096 - val_categorical_accuracy: 0.6658\n",
            "Epoch 65/340\n",
            "161/161 [==============================] - 44s 275ms/step - loss: 0.8445 - categorical_accuracy: 0.6947 - val_loss: 0.8260 - val_categorical_accuracy: 0.7228\n",
            "Epoch 66/340\n",
            "161/161 [==============================] - 45s 280ms/step - loss: 0.7731 - categorical_accuracy: 0.7134 - val_loss: 1.2135 - val_categorical_accuracy: 0.5516\n",
            "Epoch 67/340\n",
            "161/161 [==============================] - 45s 283ms/step - loss: 0.7722 - categorical_accuracy: 0.7230 - val_loss: 0.9672 - val_categorical_accuracy: 0.6739\n",
            "Epoch 68/340\n",
            "161/161 [==============================] - 45s 281ms/step - loss: 0.7829 - categorical_accuracy: 0.7156 - val_loss: 0.7673 - val_categorical_accuracy: 0.7065\n",
            "Epoch 69/340\n",
            "161/161 [==============================] - 45s 280ms/step - loss: 0.7508 - categorical_accuracy: 0.7232 - val_loss: 0.7195 - val_categorical_accuracy: 0.7582\n",
            "Epoch 70/340\n",
            "161/161 [==============================] - 45s 281ms/step - loss: 0.6777 - categorical_accuracy: 0.7526 - val_loss: 0.8110 - val_categorical_accuracy: 0.7065\n",
            "Epoch 71/340\n",
            "161/161 [==============================] - 45s 281ms/step - loss: 0.7102 - categorical_accuracy: 0.7505 - val_loss: 0.7757 - val_categorical_accuracy: 0.7310\n",
            "Epoch 72/340\n",
            "161/161 [==============================] - 46s 284ms/step - loss: 0.6963 - categorical_accuracy: 0.7498 - val_loss: 0.7321 - val_categorical_accuracy: 0.7201\n",
            "Epoch 73/340\n",
            "161/161 [==============================] - 46s 283ms/step - loss: 0.7447 - categorical_accuracy: 0.7200 - val_loss: 0.6894 - val_categorical_accuracy: 0.7663\n",
            "Epoch 74/340\n",
            "161/161 [==============================] - 45s 282ms/step - loss: 0.6574 - categorical_accuracy: 0.7563 - val_loss: 0.8398 - val_categorical_accuracy: 0.7011\n",
            "Epoch 75/340\n",
            "161/161 [==============================] - 45s 279ms/step - loss: 0.6720 - categorical_accuracy: 0.7575 - val_loss: 0.8339 - val_categorical_accuracy: 0.7228\n",
            "Epoch 76/340\n",
            "161/161 [==============================] - 45s 277ms/step - loss: 0.6636 - categorical_accuracy: 0.7600 - val_loss: 0.6672 - val_categorical_accuracy: 0.7527\n",
            "Epoch 77/340\n",
            "161/161 [==============================] - 45s 282ms/step - loss: 0.6485 - categorical_accuracy: 0.7697 - val_loss: 0.9799 - val_categorical_accuracy: 0.6630\n",
            "Epoch 78/340\n",
            "161/161 [==============================] - 46s 284ms/step - loss: 0.6592 - categorical_accuracy: 0.7652 - val_loss: 0.7723 - val_categorical_accuracy: 0.7500\n",
            "Epoch 79/340\n",
            "161/161 [==============================] - 45s 281ms/step - loss: 0.6126 - categorical_accuracy: 0.7750 - val_loss: 0.6549 - val_categorical_accuracy: 0.7554\n",
            "Epoch 80/340\n",
            "161/161 [==============================] - 45s 277ms/step - loss: 0.6023 - categorical_accuracy: 0.7811 - val_loss: 0.7081 - val_categorical_accuracy: 0.7446\n",
            "Epoch 81/340\n",
            "161/161 [==============================] - 45s 278ms/step - loss: 0.5913 - categorical_accuracy: 0.7884 - val_loss: 0.7686 - val_categorical_accuracy: 0.7391\n",
            "Epoch 82/340\n",
            "161/161 [==============================] - 45s 280ms/step - loss: 0.6178 - categorical_accuracy: 0.7830 - val_loss: 0.7082 - val_categorical_accuracy: 0.7228\n",
            "Epoch 83/340\n",
            "161/161 [==============================] - 45s 280ms/step - loss: 0.5874 - categorical_accuracy: 0.7788 - val_loss: 0.5990 - val_categorical_accuracy: 0.7690\n",
            "Epoch 84/340\n",
            "161/161 [==============================] - 45s 280ms/step - loss: 0.5539 - categorical_accuracy: 0.7976 - val_loss: 0.6965 - val_categorical_accuracy: 0.7717\n",
            "Epoch 85/340\n",
            "161/161 [==============================] - 45s 279ms/step - loss: 0.5707 - categorical_accuracy: 0.7944 - val_loss: 0.7398 - val_categorical_accuracy: 0.7418\n",
            "Epoch 86/340\n",
            "161/161 [==============================] - 44s 275ms/step - loss: 0.5629 - categorical_accuracy: 0.7860 - val_loss: 0.6327 - val_categorical_accuracy: 0.7500\n",
            "Epoch 87/340\n",
            "161/161 [==============================] - 45s 280ms/step - loss: 0.5340 - categorical_accuracy: 0.8030 - val_loss: 0.7382 - val_categorical_accuracy: 0.7446\n",
            "Epoch 88/340\n",
            "161/161 [==============================] - 45s 281ms/step - loss: 0.5439 - categorical_accuracy: 0.8006 - val_loss: 0.6968 - val_categorical_accuracy: 0.7663\n",
            "Epoch 89/340\n",
            "161/161 [==============================] - 46s 284ms/step - loss: 0.5490 - categorical_accuracy: 0.8013 - val_loss: 0.6573 - val_categorical_accuracy: 0.7799\n",
            "Epoch 90/340\n",
            "161/161 [==============================] - 45s 282ms/step - loss: 0.5420 - categorical_accuracy: 0.7956 - val_loss: 0.6263 - val_categorical_accuracy: 0.7690\n",
            "Epoch 91/340\n",
            "161/161 [==============================] - 45s 282ms/step - loss: 0.5395 - categorical_accuracy: 0.8016 - val_loss: 0.6884 - val_categorical_accuracy: 0.7663\n",
            "Epoch 92/340\n",
            "161/161 [==============================] - 45s 279ms/step - loss: 0.5666 - categorical_accuracy: 0.7928 - val_loss: 0.7169 - val_categorical_accuracy: 0.7418\n",
            "Epoch 93/340\n",
            "161/161 [==============================] - 45s 283ms/step - loss: 0.5375 - categorical_accuracy: 0.8014 - val_loss: 0.6845 - val_categorical_accuracy: 0.7554\n",
            "Epoch 94/340\n",
            "161/161 [==============================] - 45s 282ms/step - loss: 0.5038 - categorical_accuracy: 0.8179 - val_loss: 0.8406 - val_categorical_accuracy: 0.7147\n",
            "Epoch 95/340\n",
            "161/161 [==============================] - 45s 282ms/step - loss: 0.5346 - categorical_accuracy: 0.8024 - val_loss: 0.6414 - val_categorical_accuracy: 0.7880\n",
            "Epoch 96/340\n",
            "161/161 [==============================] - 45s 279ms/step - loss: 0.4823 - categorical_accuracy: 0.8245 - val_loss: 0.6481 - val_categorical_accuracy: 0.7989\n",
            "Epoch 97/340\n",
            "161/161 [==============================] - 45s 279ms/step - loss: 0.4948 - categorical_accuracy: 0.8275 - val_loss: 0.6714 - val_categorical_accuracy: 0.7663\n",
            "Epoch 98/340\n",
            "161/161 [==============================] - 46s 283ms/step - loss: 0.5197 - categorical_accuracy: 0.8074 - val_loss: 0.5873 - val_categorical_accuracy: 0.7826\n",
            "Epoch 99/340\n",
            "161/161 [==============================] - 45s 282ms/step - loss: 0.4731 - categorical_accuracy: 0.8316 - val_loss: 0.5757 - val_categorical_accuracy: 0.7799\n",
            "Epoch 100/340\n",
            "161/161 [==============================] - 46s 285ms/step - loss: 0.4634 - categorical_accuracy: 0.8290 - val_loss: 0.5911 - val_categorical_accuracy: 0.7880\n",
            "Epoch 101/340\n",
            "161/161 [==============================] - 46s 284ms/step - loss: 0.4634 - categorical_accuracy: 0.8371 - val_loss: 0.5421 - val_categorical_accuracy: 0.8071\n",
            "Epoch 102/340\n",
            "161/161 [==============================] - 45s 282ms/step - loss: 0.4560 - categorical_accuracy: 0.8389 - val_loss: 0.6493 - val_categorical_accuracy: 0.7609\n",
            "Epoch 103/340\n",
            "161/161 [==============================] - 46s 285ms/step - loss: 0.4518 - categorical_accuracy: 0.8378 - val_loss: 0.5987 - val_categorical_accuracy: 0.8071\n",
            "Epoch 104/340\n",
            "161/161 [==============================] - 46s 284ms/step - loss: 0.4767 - categorical_accuracy: 0.8221 - val_loss: 0.5796 - val_categorical_accuracy: 0.7989\n",
            "Epoch 105/340\n",
            "161/161 [==============================] - 46s 285ms/step - loss: 0.4493 - categorical_accuracy: 0.8456 - val_loss: 0.6015 - val_categorical_accuracy: 0.7799\n",
            "Epoch 106/340\n",
            "161/161 [==============================] - 46s 285ms/step - loss: 0.4315 - categorical_accuracy: 0.8489 - val_loss: 0.5601 - val_categorical_accuracy: 0.8016\n",
            "Epoch 107/340\n",
            "161/161 [==============================] - 46s 284ms/step - loss: 0.4279 - categorical_accuracy: 0.8513 - val_loss: 0.5626 - val_categorical_accuracy: 0.7853\n",
            "Epoch 108/340\n",
            "161/161 [==============================] - 46s 285ms/step - loss: 0.4247 - categorical_accuracy: 0.8499 - val_loss: 0.6420 - val_categorical_accuracy: 0.8016\n",
            "Epoch 109/340\n",
            "161/161 [==============================] - 46s 288ms/step - loss: 0.3952 - categorical_accuracy: 0.8620 - val_loss: 0.5381 - val_categorical_accuracy: 0.8125\n",
            "Epoch 110/340\n",
            "161/161 [==============================] - 46s 288ms/step - loss: 0.3952 - categorical_accuracy: 0.8539 - val_loss: 0.5439 - val_categorical_accuracy: 0.8315\n",
            "Epoch 111/340\n",
            "161/161 [==============================] - 46s 286ms/step - loss: 0.3988 - categorical_accuracy: 0.8511 - val_loss: 0.5840 - val_categorical_accuracy: 0.8043\n",
            "Epoch 112/340\n",
            "161/161 [==============================] - 45s 282ms/step - loss: 0.3967 - categorical_accuracy: 0.8568 - val_loss: 0.6268 - val_categorical_accuracy: 0.8043\n",
            "Epoch 113/340\n",
            "161/161 [==============================] - 45s 279ms/step - loss: 0.4260 - categorical_accuracy: 0.8552 - val_loss: 0.5068 - val_categorical_accuracy: 0.8179\n",
            "Epoch 114/340\n",
            "161/161 [==============================] - 45s 281ms/step - loss: 0.3919 - categorical_accuracy: 0.8617 - val_loss: 0.5510 - val_categorical_accuracy: 0.8152\n",
            "Epoch 115/340\n",
            "161/161 [==============================] - 45s 282ms/step - loss: 0.4286 - categorical_accuracy: 0.8499 - val_loss: 0.5530 - val_categorical_accuracy: 0.8234\n",
            "Epoch 116/340\n",
            "161/161 [==============================] - 45s 279ms/step - loss: 0.3901 - categorical_accuracy: 0.8626 - val_loss: 0.6636 - val_categorical_accuracy: 0.7908\n",
            "Epoch 117/340\n",
            "161/161 [==============================] - 45s 278ms/step - loss: 0.4205 - categorical_accuracy: 0.8499 - val_loss: 0.5757 - val_categorical_accuracy: 0.7935\n",
            "Epoch 118/340\n",
            "161/161 [==============================] - 45s 278ms/step - loss: 0.3612 - categorical_accuracy: 0.8712 - val_loss: 0.6400 - val_categorical_accuracy: 0.8043\n",
            "Epoch 119/340\n",
            "161/161 [==============================] - 45s 280ms/step - loss: 0.3770 - categorical_accuracy: 0.8633 - val_loss: 0.5265 - val_categorical_accuracy: 0.8179\n",
            "Epoch 120/340\n",
            "161/161 [==============================] - 45s 280ms/step - loss: 0.3658 - categorical_accuracy: 0.8691 - val_loss: 0.4819 - val_categorical_accuracy: 0.8342\n",
            "Epoch 121/340\n",
            "161/161 [==============================] - 45s 279ms/step - loss: 0.3593 - categorical_accuracy: 0.8725 - val_loss: 0.4893 - val_categorical_accuracy: 0.8424\n",
            "Epoch 122/340\n",
            "161/161 [==============================] - 45s 279ms/step - loss: 0.3461 - categorical_accuracy: 0.8773 - val_loss: 0.5290 - val_categorical_accuracy: 0.8315\n",
            "Epoch 123/340\n",
            "161/161 [==============================] - 45s 278ms/step - loss: 0.3517 - categorical_accuracy: 0.8754 - val_loss: 0.6007 - val_categorical_accuracy: 0.8071\n",
            "Epoch 124/340\n",
            "161/161 [==============================] - 45s 281ms/step - loss: 0.3647 - categorical_accuracy: 0.8747 - val_loss: 0.4799 - val_categorical_accuracy: 0.8397\n",
            "Epoch 125/340\n",
            "161/161 [==============================] - 45s 282ms/step - loss: 0.3481 - categorical_accuracy: 0.8815 - val_loss: 0.6321 - val_categorical_accuracy: 0.7962\n",
            "Epoch 126/340\n",
            "161/161 [==============================] - 45s 282ms/step - loss: 0.3679 - categorical_accuracy: 0.8698 - val_loss: 0.6301 - val_categorical_accuracy: 0.8152\n",
            "Epoch 127/340\n",
            "161/161 [==============================] - 45s 280ms/step - loss: 0.3525 - categorical_accuracy: 0.8783 - val_loss: 0.6120 - val_categorical_accuracy: 0.8234\n",
            "Epoch 128/340\n",
            "161/161 [==============================] - 45s 282ms/step - loss: 0.3259 - categorical_accuracy: 0.8837 - val_loss: 0.5754 - val_categorical_accuracy: 0.8261\n",
            "Epoch 129/340\n",
            "161/161 [==============================] - 45s 279ms/step - loss: 0.3328 - categorical_accuracy: 0.8854 - val_loss: 0.5334 - val_categorical_accuracy: 0.8397\n",
            "Epoch 130/340\n",
            "161/161 [==============================] - 45s 280ms/step - loss: 0.3124 - categorical_accuracy: 0.8900 - val_loss: 0.6200 - val_categorical_accuracy: 0.8234\n",
            "Epoch 131/340\n",
            "161/161 [==============================] - 45s 280ms/step - loss: 0.3512 - categorical_accuracy: 0.8737 - val_loss: 0.6531 - val_categorical_accuracy: 0.8125\n",
            "Epoch 132/340\n",
            "161/161 [==============================] - 45s 278ms/step - loss: 0.2836 - categorical_accuracy: 0.8991 - val_loss: 0.6212 - val_categorical_accuracy: 0.8152\n",
            "Epoch 133/340\n",
            "161/161 [==============================] - 45s 277ms/step - loss: 0.3190 - categorical_accuracy: 0.8875 - val_loss: 0.5686 - val_categorical_accuracy: 0.8261\n",
            "Epoch 134/340\n",
            "161/161 [==============================] - 45s 278ms/step - loss: 0.2938 - categorical_accuracy: 0.8917 - val_loss: 0.5558 - val_categorical_accuracy: 0.8125\n",
            "Epoch 135/340\n",
            "161/161 [==============================] - 45s 281ms/step - loss: 0.3152 - categorical_accuracy: 0.8875 - val_loss: 0.5912 - val_categorical_accuracy: 0.8152\n",
            "Epoch 136/340\n",
            "161/161 [==============================] - 45s 281ms/step - loss: 0.3046 - categorical_accuracy: 0.8894 - val_loss: 0.5791 - val_categorical_accuracy: 0.8098\n",
            "Epoch 137/340\n",
            "161/161 [==============================] - 45s 281ms/step - loss: 0.2675 - categorical_accuracy: 0.9054 - val_loss: 0.5460 - val_categorical_accuracy: 0.8179\n",
            "Epoch 138/340\n",
            "161/161 [==============================] - 45s 280ms/step - loss: 0.2939 - categorical_accuracy: 0.8975 - val_loss: 0.5439 - val_categorical_accuracy: 0.8152\n",
            "Epoch 139/340\n",
            "161/161 [==============================] - 45s 278ms/step - loss: 0.2693 - categorical_accuracy: 0.9006 - val_loss: 0.5379 - val_categorical_accuracy: 0.8125\n",
            "Epoch 140/340\n",
            "161/161 [==============================] - 45s 279ms/step - loss: 0.2933 - categorical_accuracy: 0.9021 - val_loss: 0.6222 - val_categorical_accuracy: 0.8234\n",
            "Epoch 141/340\n",
            "161/161 [==============================] - 45s 282ms/step - loss: 0.2692 - categorical_accuracy: 0.9032 - val_loss: 0.5433 - val_categorical_accuracy: 0.8261\n",
            "Epoch 142/340\n",
            "161/161 [==============================] - 45s 281ms/step - loss: 0.2865 - categorical_accuracy: 0.9047 - val_loss: 0.6326 - val_categorical_accuracy: 0.8071\n",
            "Epoch 143/340\n",
            "161/161 [==============================] - 45s 280ms/step - loss: 0.2969 - categorical_accuracy: 0.8948 - val_loss: 0.6444 - val_categorical_accuracy: 0.8071\n",
            "Epoch 144/340\n",
            "161/161 [==============================] - 45s 280ms/step - loss: 0.2952 - categorical_accuracy: 0.8978 - val_loss: 0.5668 - val_categorical_accuracy: 0.8207\n",
            "Epoch 145/340\n",
            "161/161 [==============================] - 45s 281ms/step - loss: 0.3218 - categorical_accuracy: 0.8921 - val_loss: 0.5953 - val_categorical_accuracy: 0.8370\n",
            "Epoch 146/340\n",
            "161/161 [==============================] - 46s 283ms/step - loss: 0.2961 - categorical_accuracy: 0.8999 - val_loss: 0.5568 - val_categorical_accuracy: 0.8207\n",
            "Epoch 147/340\n",
            "161/161 [==============================] - 46s 284ms/step - loss: 0.2763 - categorical_accuracy: 0.8989 - val_loss: 0.5902 - val_categorical_accuracy: 0.8261\n",
            "Epoch 148/340\n",
            "161/161 [==============================] - 45s 281ms/step - loss: 0.2663 - categorical_accuracy: 0.9077 - val_loss: 0.5233 - val_categorical_accuracy: 0.8424\n",
            "Epoch 149/340\n",
            "161/161 [==============================] - 45s 280ms/step - loss: 0.3057 - categorical_accuracy: 0.8947 - val_loss: 0.5610 - val_categorical_accuracy: 0.8152\n",
            "Epoch 150/340\n",
            "161/161 [==============================] - 45s 279ms/step - loss: 0.2615 - categorical_accuracy: 0.9096 - val_loss: 0.5635 - val_categorical_accuracy: 0.8098\n",
            "Epoch 151/340\n",
            "161/161 [==============================] - 45s 281ms/step - loss: 0.2782 - categorical_accuracy: 0.9039 - val_loss: 0.6124 - val_categorical_accuracy: 0.8261\n",
            "Epoch 152/340\n",
            "161/161 [==============================] - 46s 283ms/step - loss: 0.3274 - categorical_accuracy: 0.8842 - val_loss: 0.5918 - val_categorical_accuracy: 0.8043\n",
            "Epoch 153/340\n",
            "161/161 [==============================] - 46s 284ms/step - loss: 0.2731 - categorical_accuracy: 0.9061 - val_loss: 0.5259 - val_categorical_accuracy: 0.8342\n",
            "Epoch 154/340\n",
            "161/161 [==============================] - 45s 282ms/step - loss: 0.2671 - categorical_accuracy: 0.9004 - val_loss: 0.6301 - val_categorical_accuracy: 0.7935\n",
            "Epoch 155/340\n",
            "161/161 [==============================] - 45s 281ms/step - loss: 0.2569 - categorical_accuracy: 0.9038 - val_loss: 0.5856 - val_categorical_accuracy: 0.8125\n",
            "Epoch 156/340\n",
            "161/161 [==============================] - 46s 284ms/step - loss: 0.2249 - categorical_accuracy: 0.9197 - val_loss: 0.5758 - val_categorical_accuracy: 0.8397\n",
            "Epoch 157/340\n",
            "161/161 [==============================] - 46s 285ms/step - loss: 0.2420 - categorical_accuracy: 0.9162 - val_loss: 0.5901 - val_categorical_accuracy: 0.8288\n",
            "Epoch 158/340\n",
            "161/161 [==============================] - 45s 281ms/step - loss: 0.2204 - categorical_accuracy: 0.9184 - val_loss: 0.5387 - val_categorical_accuracy: 0.8315\n",
            "Epoch 159/340\n",
            "161/161 [==============================] - 45s 281ms/step - loss: 0.2578 - categorical_accuracy: 0.9118 - val_loss: 0.5507 - val_categorical_accuracy: 0.8261\n",
            "Epoch 160/340\n",
            "161/161 [==============================] - 45s 280ms/step - loss: 0.2405 - categorical_accuracy: 0.9253 - val_loss: 0.4727 - val_categorical_accuracy: 0.8315\n",
            "Epoch 161/340\n",
            "161/161 [==============================] - 45s 279ms/step - loss: 0.2092 - categorical_accuracy: 0.9192 - val_loss: 0.5750 - val_categorical_accuracy: 0.8370\n",
            "Epoch 162/340\n",
            "161/161 [==============================] - 46s 283ms/step - loss: 0.2098 - categorical_accuracy: 0.9228 - val_loss: 0.5826 - val_categorical_accuracy: 0.8043\n",
            "Epoch 163/340\n",
            "161/161 [==============================] - 45s 282ms/step - loss: 0.2252 - categorical_accuracy: 0.9223 - val_loss: 0.5365 - val_categorical_accuracy: 0.8397\n",
            "Epoch 164/340\n",
            "161/161 [==============================] - 46s 284ms/step - loss: 0.2250 - categorical_accuracy: 0.9213 - val_loss: 0.5498 - val_categorical_accuracy: 0.8424\n",
            "Epoch 165/340\n",
            "161/161 [==============================] - 45s 280ms/step - loss: 0.2066 - categorical_accuracy: 0.9299 - val_loss: 0.4932 - val_categorical_accuracy: 0.8288\n",
            "Epoch 166/340\n",
            "161/161 [==============================] - 45s 281ms/step - loss: 0.2036 - categorical_accuracy: 0.9251 - val_loss: 0.6866 - val_categorical_accuracy: 0.8125\n",
            "Epoch 167/340\n",
            "161/161 [==============================] - 45s 281ms/step - loss: 0.2034 - categorical_accuracy: 0.9311 - val_loss: 0.5569 - val_categorical_accuracy: 0.8288\n",
            "Epoch 168/340\n",
            "161/161 [==============================] - 45s 282ms/step - loss: 0.1997 - categorical_accuracy: 0.9270 - val_loss: 0.7086 - val_categorical_accuracy: 0.8179\n",
            "Epoch 169/340\n",
            "161/161 [==============================] - 45s 280ms/step - loss: 0.2125 - categorical_accuracy: 0.9191 - val_loss: 0.5634 - val_categorical_accuracy: 0.8342\n",
            "Epoch 170/340\n",
            "161/161 [==============================] - 45s 280ms/step - loss: 0.1877 - categorical_accuracy: 0.9339 - val_loss: 0.7341 - val_categorical_accuracy: 0.8179\n",
            "Epoch 171/340\n",
            "161/161 [==============================] - 45s 280ms/step - loss: 0.1958 - categorical_accuracy: 0.9367 - val_loss: 0.5683 - val_categorical_accuracy: 0.8614\n",
            "Epoch 172/340\n",
            "161/161 [==============================] - 45s 283ms/step - loss: 0.1946 - categorical_accuracy: 0.9382 - val_loss: 0.6273 - val_categorical_accuracy: 0.8261\n",
            "Epoch 173/340\n",
            "161/161 [==============================] - 46s 283ms/step - loss: 0.2077 - categorical_accuracy: 0.9294 - val_loss: 0.6391 - val_categorical_accuracy: 0.8397\n",
            "Epoch 174/340\n",
            "161/161 [==============================] - 46s 284ms/step - loss: 0.1866 - categorical_accuracy: 0.9370 - val_loss: 0.5953 - val_categorical_accuracy: 0.8370\n",
            "Epoch 175/340\n",
            "161/161 [==============================] - 46s 284ms/step - loss: 0.2028 - categorical_accuracy: 0.9335 - val_loss: 0.6189 - val_categorical_accuracy: 0.8424\n",
            "Epoch 176/340\n",
            "161/161 [==============================] - 45s 281ms/step - loss: 0.1651 - categorical_accuracy: 0.9438 - val_loss: 0.6018 - val_categorical_accuracy: 0.8370\n",
            "Epoch 177/340\n",
            "161/161 [==============================] - 45s 280ms/step - loss: 0.1637 - categorical_accuracy: 0.9410 - val_loss: 0.6227 - val_categorical_accuracy: 0.8424\n",
            "Epoch 178/340\n",
            "161/161 [==============================] - 45s 282ms/step - loss: 0.1558 - categorical_accuracy: 0.9437 - val_loss: 0.7294 - val_categorical_accuracy: 0.8152\n",
            "Epoch 179/340\n",
            "161/161 [==============================] - 46s 283ms/step - loss: 0.1921 - categorical_accuracy: 0.9366 - val_loss: 0.6049 - val_categorical_accuracy: 0.8397\n",
            "Epoch 180/340\n",
            "161/161 [==============================] - 46s 283ms/step - loss: 0.1632 - categorical_accuracy: 0.9474 - val_loss: 0.6465 - val_categorical_accuracy: 0.8234\n",
            "Epoch 181/340\n",
            "161/161 [==============================] - 45s 280ms/step - loss: 0.1575 - categorical_accuracy: 0.9402 - val_loss: 0.5943 - val_categorical_accuracy: 0.8261\n",
            "Epoch 182/340\n",
            "161/161 [==============================] - 45s 279ms/step - loss: 0.1438 - categorical_accuracy: 0.9505 - val_loss: 0.6410 - val_categorical_accuracy: 0.8261\n",
            "Epoch 183/340\n",
            "161/161 [==============================] - 46s 283ms/step - loss: 0.1585 - categorical_accuracy: 0.9443 - val_loss: 0.6824 - val_categorical_accuracy: 0.8152\n",
            "Epoch 184/340\n",
            "161/161 [==============================] - 46s 283ms/step - loss: 0.1558 - categorical_accuracy: 0.9450 - val_loss: 0.7135 - val_categorical_accuracy: 0.8288\n",
            "Epoch 185/340\n",
            "161/161 [==============================] - 46s 283ms/step - loss: 0.1473 - categorical_accuracy: 0.9545 - val_loss: 0.6459 - val_categorical_accuracy: 0.8397\n",
            "Epoch 186/340\n",
            "161/161 [==============================] - 45s 282ms/step - loss: 0.1500 - categorical_accuracy: 0.9448 - val_loss: 0.5516 - val_categorical_accuracy: 0.8505\n",
            "Epoch 187/340\n",
            "161/161 [==============================] - 45s 282ms/step - loss: 0.1696 - categorical_accuracy: 0.9436 - val_loss: 0.5961 - val_categorical_accuracy: 0.8424\n",
            "Epoch 188/340\n",
            "161/161 [==============================] - 45s 282ms/step - loss: 0.1718 - categorical_accuracy: 0.9407 - val_loss: 0.6173 - val_categorical_accuracy: 0.8451\n",
            "Epoch 189/340\n",
            "161/161 [==============================] - 45s 282ms/step - loss: 0.1526 - categorical_accuracy: 0.9431 - val_loss: 0.6489 - val_categorical_accuracy: 0.8234\n",
            "Epoch 190/340\n",
            "161/161 [==============================] - 46s 284ms/step - loss: 0.1416 - categorical_accuracy: 0.9501 - val_loss: 0.6615 - val_categorical_accuracy: 0.8342\n",
            "Epoch 191/340\n",
            "161/161 [==============================] - 46s 283ms/step - loss: 0.1519 - categorical_accuracy: 0.9525 - val_loss: 0.6228 - val_categorical_accuracy: 0.8397\n",
            "Epoch 192/340\n",
            "161/161 [==============================] - 46s 283ms/step - loss: 0.1524 - categorical_accuracy: 0.9445 - val_loss: 0.6751 - val_categorical_accuracy: 0.8342\n",
            "Epoch 193/340\n",
            "161/161 [==============================] - 46s 287ms/step - loss: 0.1446 - categorical_accuracy: 0.9540 - val_loss: 0.6109 - val_categorical_accuracy: 0.8370\n",
            "Epoch 194/340\n",
            "161/161 [==============================] - 46s 287ms/step - loss: 0.1198 - categorical_accuracy: 0.9589 - val_loss: 0.7376 - val_categorical_accuracy: 0.8342\n",
            "Epoch 195/340\n",
            "161/161 [==============================] - 46s 283ms/step - loss: 0.1300 - categorical_accuracy: 0.9561 - val_loss: 0.6151 - val_categorical_accuracy: 0.8397\n",
            "Epoch 196/340\n",
            "161/161 [==============================] - 46s 283ms/step - loss: 0.1224 - categorical_accuracy: 0.9615 - val_loss: 0.6184 - val_categorical_accuracy: 0.8505\n",
            "Epoch 197/340\n",
            "161/161 [==============================] - 46s 283ms/step - loss: 0.1341 - categorical_accuracy: 0.9533 - val_loss: 0.5993 - val_categorical_accuracy: 0.8723\n",
            "Epoch 198/340\n",
            "161/161 [==============================] - 45s 283ms/step - loss: 0.1221 - categorical_accuracy: 0.9641 - val_loss: 0.6254 - val_categorical_accuracy: 0.8315\n",
            "Epoch 199/340\n",
            "161/161 [==============================] - 45s 282ms/step - loss: 0.1355 - categorical_accuracy: 0.9525 - val_loss: 0.6251 - val_categorical_accuracy: 0.8370\n",
            "Epoch 200/340\n",
            "161/161 [==============================] - 46s 284ms/step - loss: 0.1319 - categorical_accuracy: 0.9551 - val_loss: 0.5997 - val_categorical_accuracy: 0.8342\n",
            "Epoch 201/340\n",
            "161/161 [==============================] - 46s 285ms/step - loss: 0.1221 - categorical_accuracy: 0.9619 - val_loss: 0.6380 - val_categorical_accuracy: 0.8397\n",
            "Epoch 202/340\n",
            "161/161 [==============================] - 45s 282ms/step - loss: 0.1445 - categorical_accuracy: 0.9520 - val_loss: 0.5901 - val_categorical_accuracy: 0.8315\n",
            "Epoch 203/340\n",
            "161/161 [==============================] - 46s 283ms/step - loss: 0.1165 - categorical_accuracy: 0.9597 - val_loss: 0.6324 - val_categorical_accuracy: 0.8505\n",
            "Epoch 204/340\n",
            "161/161 [==============================] - 46s 284ms/step - loss: 0.1345 - categorical_accuracy: 0.9526 - val_loss: 0.5553 - val_categorical_accuracy: 0.8533\n",
            "Epoch 205/340\n",
            "161/161 [==============================] - 46s 285ms/step - loss: 0.1195 - categorical_accuracy: 0.9580 - val_loss: 0.6640 - val_categorical_accuracy: 0.8451\n",
            "Epoch 206/340\n",
            "161/161 [==============================] - 45s 282ms/step - loss: 0.1417 - categorical_accuracy: 0.9541 - val_loss: 0.6991 - val_categorical_accuracy: 0.8370\n",
            "Epoch 207/340\n",
            "161/161 [==============================] - 46s 283ms/step - loss: 0.1030 - categorical_accuracy: 0.9688 - val_loss: 0.8415 - val_categorical_accuracy: 0.7989\n",
            "Epoch 208/340\n",
            "161/161 [==============================] - 46s 283ms/step - loss: 0.1896 - categorical_accuracy: 0.9399 - val_loss: 0.6004 - val_categorical_accuracy: 0.8505\n",
            "Epoch 209/340\n",
            "161/161 [==============================] - 46s 285ms/step - loss: 0.1160 - categorical_accuracy: 0.9650 - val_loss: 0.5523 - val_categorical_accuracy: 0.8505\n",
            "Epoch 210/340\n",
            "161/161 [==============================] - 46s 283ms/step - loss: 0.1290 - categorical_accuracy: 0.9557 - val_loss: 0.5973 - val_categorical_accuracy: 0.8505\n",
            "Epoch 211/340\n",
            "161/161 [==============================] - 46s 284ms/step - loss: 0.1222 - categorical_accuracy: 0.9615 - val_loss: 0.5971 - val_categorical_accuracy: 0.8505\n",
            "Epoch 212/340\n",
            "161/161 [==============================] - 46s 285ms/step - loss: 0.1228 - categorical_accuracy: 0.9596 - val_loss: 0.7552 - val_categorical_accuracy: 0.8261\n",
            "Epoch 213/340\n",
            "161/161 [==============================] - 45s 282ms/step - loss: 0.1338 - categorical_accuracy: 0.9557 - val_loss: 0.8383 - val_categorical_accuracy: 0.8207\n",
            "Epoch 214/340\n",
            "161/161 [==============================] - 46s 283ms/step - loss: 0.1463 - categorical_accuracy: 0.9560 - val_loss: 0.6581 - val_categorical_accuracy: 0.8207\n",
            "Epoch 215/340\n",
            "161/161 [==============================] - 46s 284ms/step - loss: 0.1406 - categorical_accuracy: 0.9528 - val_loss: 0.6693 - val_categorical_accuracy: 0.8505\n",
            "Epoch 216/340\n",
            "161/161 [==============================] - 46s 283ms/step - loss: 0.1021 - categorical_accuracy: 0.9645 - val_loss: 0.6907 - val_categorical_accuracy: 0.8424\n",
            "Epoch 217/340\n",
            "161/161 [==============================] - 46s 283ms/step - loss: 0.1133 - categorical_accuracy: 0.9654 - val_loss: 0.6810 - val_categorical_accuracy: 0.8424\n",
            "Epoch 218/340\n",
            "161/161 [==============================] - 45s 282ms/step - loss: 0.1283 - categorical_accuracy: 0.9583 - val_loss: 0.8057 - val_categorical_accuracy: 0.8315\n",
            "Epoch 219/340\n",
            "161/161 [==============================] - 46s 284ms/step - loss: 0.1212 - categorical_accuracy: 0.9566 - val_loss: 0.6217 - val_categorical_accuracy: 0.8370\n",
            "Epoch 220/340\n",
            "161/161 [==============================] - 47s 291ms/step - loss: 0.1149 - categorical_accuracy: 0.9622 - val_loss: 0.5183 - val_categorical_accuracy: 0.8614\n",
            "Epoch 221/340\n",
            "161/161 [==============================] - 46s 287ms/step - loss: 0.0979 - categorical_accuracy: 0.9659 - val_loss: 0.5608 - val_categorical_accuracy: 0.8505\n",
            "Epoch 222/340\n",
            "161/161 [==============================] - 46s 287ms/step - loss: 0.1047 - categorical_accuracy: 0.9660 - val_loss: 0.5796 - val_categorical_accuracy: 0.8668\n",
            "Epoch 223/340\n",
            "161/161 [==============================] - 46s 285ms/step - loss: 0.0951 - categorical_accuracy: 0.9681 - val_loss: 0.6120 - val_categorical_accuracy: 0.8451\n",
            "Epoch 224/340\n",
            "161/161 [==============================] - 46s 284ms/step - loss: 0.1139 - categorical_accuracy: 0.9614 - val_loss: 0.7751 - val_categorical_accuracy: 0.8397\n",
            "Epoch 225/340\n",
            "161/161 [==============================] - 46s 285ms/step - loss: 0.1089 - categorical_accuracy: 0.9637 - val_loss: 0.6291 - val_categorical_accuracy: 0.8315\n",
            "Epoch 226/340\n",
            "161/161 [==============================] - 46s 284ms/step - loss: 0.0960 - categorical_accuracy: 0.9710 - val_loss: 0.7976 - val_categorical_accuracy: 0.8451\n",
            "Epoch 227/340\n",
            "161/161 [==============================] - 46s 283ms/step - loss: 0.0949 - categorical_accuracy: 0.9717 - val_loss: 0.7175 - val_categorical_accuracy: 0.8071\n",
            "Epoch 228/340\n",
            "161/161 [==============================] - 45s 282ms/step - loss: 0.0993 - categorical_accuracy: 0.9691 - val_loss: 0.6198 - val_categorical_accuracy: 0.8397\n",
            "Epoch 229/340\n",
            "161/161 [==============================] - 46s 284ms/step - loss: 0.1089 - categorical_accuracy: 0.9668 - val_loss: 0.6930 - val_categorical_accuracy: 0.8560\n",
            "Epoch 230/340\n",
            "161/161 [==============================] - 46s 286ms/step - loss: 0.0876 - categorical_accuracy: 0.9752 - val_loss: 0.5668 - val_categorical_accuracy: 0.8478\n",
            "Epoch 231/340\n",
            "161/161 [==============================] - 46s 286ms/step - loss: 0.0914 - categorical_accuracy: 0.9662 - val_loss: 0.7105 - val_categorical_accuracy: 0.8315\n",
            "Epoch 232/340\n",
            "161/161 [==============================] - 46s 284ms/step - loss: 0.1150 - categorical_accuracy: 0.9639 - val_loss: 0.5966 - val_categorical_accuracy: 0.8533\n",
            "Epoch 233/340\n",
            "161/161 [==============================] - 45s 282ms/step - loss: 0.0927 - categorical_accuracy: 0.9692 - val_loss: 0.5776 - val_categorical_accuracy: 0.8587\n",
            "Epoch 234/340\n",
            "161/161 [==============================] - 45s 282ms/step - loss: 0.0809 - categorical_accuracy: 0.9751 - val_loss: 0.6181 - val_categorical_accuracy: 0.8397\n",
            "Epoch 235/340\n",
            "161/161 [==============================] - 46s 284ms/step - loss: 0.1025 - categorical_accuracy: 0.9615 - val_loss: 0.5642 - val_categorical_accuracy: 0.8614\n",
            "Epoch 236/340\n",
            "161/161 [==============================] - 46s 287ms/step - loss: 0.0974 - categorical_accuracy: 0.9708 - val_loss: 0.6193 - val_categorical_accuracy: 0.8478\n",
            "Epoch 237/340\n",
            "161/161 [==============================] - 46s 286ms/step - loss: 0.1034 - categorical_accuracy: 0.9670 - val_loss: 0.6770 - val_categorical_accuracy: 0.8505\n",
            "Epoch 238/340\n",
            "161/161 [==============================] - 46s 285ms/step - loss: 0.1057 - categorical_accuracy: 0.9678 - val_loss: 0.7134 - val_categorical_accuracy: 0.8315\n",
            "Epoch 239/340\n",
            "161/161 [==============================] - 46s 284ms/step - loss: 0.1023 - categorical_accuracy: 0.9701 - val_loss: 0.7125 - val_categorical_accuracy: 0.8397\n",
            "Epoch 240/340\n",
            "161/161 [==============================] - 46s 286ms/step - loss: 0.0965 - categorical_accuracy: 0.9721 - val_loss: 0.6805 - val_categorical_accuracy: 0.8505\n",
            "Epoch 241/340\n",
            "161/161 [==============================] - 46s 286ms/step - loss: 0.1079 - categorical_accuracy: 0.9674 - val_loss: 0.6611 - val_categorical_accuracy: 0.8533\n",
            "Epoch 242/340\n",
            "161/161 [==============================] - 46s 287ms/step - loss: 0.1039 - categorical_accuracy: 0.9681 - val_loss: 0.6390 - val_categorical_accuracy: 0.8424\n",
            "Epoch 243/340\n",
            "161/161 [==============================] - 46s 287ms/step - loss: 0.1125 - categorical_accuracy: 0.9651 - val_loss: 0.6809 - val_categorical_accuracy: 0.8696\n",
            "Epoch 244/340\n",
            "161/161 [==============================] - 46s 284ms/step - loss: 0.1044 - categorical_accuracy: 0.9652 - val_loss: 0.7422 - val_categorical_accuracy: 0.8424\n",
            "Epoch 245/340\n",
            "161/161 [==============================] - 46s 283ms/step - loss: 0.1056 - categorical_accuracy: 0.9647 - val_loss: 0.5570 - val_categorical_accuracy: 0.8723\n",
            "Epoch 246/340\n",
            "161/161 [==============================] - 46s 286ms/step - loss: 0.0887 - categorical_accuracy: 0.9668 - val_loss: 0.6734 - val_categorical_accuracy: 0.8505\n",
            "Epoch 247/340\n",
            "161/161 [==============================] - 46s 288ms/step - loss: 0.0934 - categorical_accuracy: 0.9720 - val_loss: 0.7769 - val_categorical_accuracy: 0.8315\n",
            "Epoch 248/340\n",
            "161/161 [==============================] - 46s 288ms/step - loss: 0.0771 - categorical_accuracy: 0.9759 - val_loss: 0.7191 - val_categorical_accuracy: 0.8451\n",
            "Epoch 249/340\n",
            "161/161 [==============================] - 46s 284ms/step - loss: 0.0795 - categorical_accuracy: 0.9757 - val_loss: 0.6910 - val_categorical_accuracy: 0.8451\n",
            "Epoch 250/340\n",
            "161/161 [==============================] - 45s 283ms/step - loss: 0.0593 - categorical_accuracy: 0.9830 - val_loss: 0.7506 - val_categorical_accuracy: 0.8370\n",
            "Epoch 251/340\n",
            "161/161 [==============================] - 46s 286ms/step - loss: 0.0829 - categorical_accuracy: 0.9750 - val_loss: 0.6087 - val_categorical_accuracy: 0.8533\n",
            "Epoch 252/340\n",
            "161/161 [==============================] - 46s 286ms/step - loss: 0.0491 - categorical_accuracy: 0.9852 - val_loss: 0.7661 - val_categorical_accuracy: 0.8370\n",
            "Epoch 253/340\n",
            "161/161 [==============================] - 46s 285ms/step - loss: 0.0953 - categorical_accuracy: 0.9715 - val_loss: 0.8167 - val_categorical_accuracy: 0.8315\n",
            "Epoch 254/340\n",
            "161/161 [==============================] - 46s 285ms/step - loss: 0.1069 - categorical_accuracy: 0.9669 - val_loss: 0.7046 - val_categorical_accuracy: 0.8505\n",
            "Epoch 255/340\n",
            "161/161 [==============================] - 46s 287ms/step - loss: 0.0801 - categorical_accuracy: 0.9766 - val_loss: 0.7832 - val_categorical_accuracy: 0.8533\n",
            "Epoch 256/340\n",
            "161/161 [==============================] - 46s 286ms/step - loss: 0.0801 - categorical_accuracy: 0.9756 - val_loss: 0.7365 - val_categorical_accuracy: 0.8614\n",
            "Epoch 257/340\n",
            "161/161 [==============================] - 47s 289ms/step - loss: 0.0935 - categorical_accuracy: 0.9738 - val_loss: 0.6642 - val_categorical_accuracy: 0.8533\n",
            "Epoch 258/340\n",
            "161/161 [==============================] - 46s 288ms/step - loss: 0.0504 - categorical_accuracy: 0.9823 - val_loss: 0.6819 - val_categorical_accuracy: 0.8614\n",
            "Epoch 259/340\n",
            "161/161 [==============================] - 46s 288ms/step - loss: 0.0606 - categorical_accuracy: 0.9803 - val_loss: 0.7993 - val_categorical_accuracy: 0.8370\n",
            "Epoch 260/340\n",
            "161/161 [==============================] - 46s 288ms/step - loss: 0.0734 - categorical_accuracy: 0.9775 - val_loss: 0.6730 - val_categorical_accuracy: 0.8587\n",
            "Epoch 261/340\n",
            "161/161 [==============================] - 47s 289ms/step - loss: 0.0556 - categorical_accuracy: 0.9813 - val_loss: 0.7267 - val_categorical_accuracy: 0.8587\n",
            "Epoch 262/340\n",
            "161/161 [==============================] - 47s 290ms/step - loss: 0.0744 - categorical_accuracy: 0.9745 - val_loss: 0.7393 - val_categorical_accuracy: 0.8587\n",
            "Epoch 263/340\n",
            "161/161 [==============================] - 46s 287ms/step - loss: 0.1005 - categorical_accuracy: 0.9756 - val_loss: 0.7280 - val_categorical_accuracy: 0.8614\n",
            "Epoch 264/340\n",
            "161/161 [==============================] - 46s 288ms/step - loss: 0.0789 - categorical_accuracy: 0.9706 - val_loss: 0.8804 - val_categorical_accuracy: 0.8451\n",
            "Epoch 265/340\n",
            "161/161 [==============================] - 46s 287ms/step - loss: 0.0872 - categorical_accuracy: 0.9722 - val_loss: 0.7895 - val_categorical_accuracy: 0.8370\n",
            "Epoch 266/340\n",
            "161/161 [==============================] - 47s 289ms/step - loss: 0.0924 - categorical_accuracy: 0.9731 - val_loss: 0.6785 - val_categorical_accuracy: 0.8533\n",
            "Epoch 267/340\n",
            "161/161 [==============================] - 47s 291ms/step - loss: 0.0754 - categorical_accuracy: 0.9750 - val_loss: 0.7377 - val_categorical_accuracy: 0.8614\n",
            "Epoch 268/340\n",
            "161/161 [==============================] - 47s 290ms/step - loss: 0.0617 - categorical_accuracy: 0.9811 - val_loss: 0.7573 - val_categorical_accuracy: 0.8478\n",
            "Epoch 269/340\n",
            "161/161 [==============================] - 46s 287ms/step - loss: 0.0631 - categorical_accuracy: 0.9813 - val_loss: 0.8501 - val_categorical_accuracy: 0.8288\n",
            "Epoch 270/340\n",
            "161/161 [==============================] - 46s 286ms/step - loss: 0.0961 - categorical_accuracy: 0.9726 - val_loss: 0.6420 - val_categorical_accuracy: 0.8505\n",
            "Epoch 271/340\n",
            "161/161 [==============================] - 46s 286ms/step - loss: 0.0701 - categorical_accuracy: 0.9759 - val_loss: 0.7431 - val_categorical_accuracy: 0.8478\n",
            "Epoch 272/340\n",
            "161/161 [==============================] - 47s 289ms/step - loss: 0.0765 - categorical_accuracy: 0.9787 - val_loss: 0.7430 - val_categorical_accuracy: 0.8505\n",
            "Epoch 273/340\n",
            "161/161 [==============================] - 47s 289ms/step - loss: 0.0749 - categorical_accuracy: 0.9754 - val_loss: 0.7948 - val_categorical_accuracy: 0.8315\n",
            "Epoch 274/340\n",
            "161/161 [==============================] - 46s 286ms/step - loss: 0.0622 - categorical_accuracy: 0.9781 - val_loss: 0.7737 - val_categorical_accuracy: 0.8451\n",
            "Epoch 275/340\n",
            "161/161 [==============================] - 46s 285ms/step - loss: 0.0739 - categorical_accuracy: 0.9761 - val_loss: 0.6768 - val_categorical_accuracy: 0.8641\n",
            "Epoch 276/340\n",
            "161/161 [==============================] - 46s 286ms/step - loss: 0.0665 - categorical_accuracy: 0.9795 - val_loss: 0.6586 - val_categorical_accuracy: 0.8641\n",
            "Epoch 277/340\n",
            "161/161 [==============================] - 47s 290ms/step - loss: 0.0600 - categorical_accuracy: 0.9801 - val_loss: 0.7772 - val_categorical_accuracy: 0.8505\n",
            "Epoch 278/340\n",
            "161/161 [==============================] - 46s 287ms/step - loss: 0.0458 - categorical_accuracy: 0.9864 - val_loss: 0.7391 - val_categorical_accuracy: 0.8478\n",
            "Epoch 279/340\n",
            "161/161 [==============================] - 46s 287ms/step - loss: 0.0773 - categorical_accuracy: 0.9756 - val_loss: 0.8631 - val_categorical_accuracy: 0.8288\n",
            "Epoch 280/340\n",
            "161/161 [==============================] - 46s 287ms/step - loss: 0.0734 - categorical_accuracy: 0.9760 - val_loss: 0.9548 - val_categorical_accuracy: 0.8234\n",
            "Epoch 281/340\n",
            "161/161 [==============================] - 46s 285ms/step - loss: 0.0593 - categorical_accuracy: 0.9793 - val_loss: 0.7959 - val_categorical_accuracy: 0.8451\n",
            "Epoch 282/340\n",
            "161/161 [==============================] - 46s 289ms/step - loss: 0.0798 - categorical_accuracy: 0.9755 - val_loss: 0.8460 - val_categorical_accuracy: 0.8587\n",
            "Epoch 283/340\n",
            "161/161 [==============================] - 47s 290ms/step - loss: 0.0626 - categorical_accuracy: 0.9779 - val_loss: 0.7362 - val_categorical_accuracy: 0.8397\n",
            "Epoch 284/340\n",
            "161/161 [==============================] - 46s 288ms/step - loss: 0.0628 - categorical_accuracy: 0.9762 - val_loss: 0.8031 - val_categorical_accuracy: 0.8505\n",
            "Epoch 285/340\n",
            "161/161 [==============================] - 46s 287ms/step - loss: 0.0828 - categorical_accuracy: 0.9740 - val_loss: 0.7502 - val_categorical_accuracy: 0.8560\n",
            "Epoch 286/340\n",
            "161/161 [==============================] - 46s 288ms/step - loss: 0.0577 - categorical_accuracy: 0.9810 - val_loss: 0.8124 - val_categorical_accuracy: 0.8478\n",
            "Epoch 287/340\n",
            "161/161 [==============================] - 46s 288ms/step - loss: 0.0574 - categorical_accuracy: 0.9846 - val_loss: 0.8683 - val_categorical_accuracy: 0.8370\n",
            "Epoch 288/340\n",
            "161/161 [==============================] - 47s 290ms/step - loss: 0.0838 - categorical_accuracy: 0.9748 - val_loss: 0.7404 - val_categorical_accuracy: 0.8587\n",
            "Epoch 289/340\n",
            "161/161 [==============================] - 46s 287ms/step - loss: 0.0832 - categorical_accuracy: 0.9736 - val_loss: 0.8032 - val_categorical_accuracy: 0.8560\n",
            "Epoch 290/340\n",
            "161/161 [==============================] - 46s 286ms/step - loss: 0.0600 - categorical_accuracy: 0.9815 - val_loss: 0.6899 - val_categorical_accuracy: 0.8614\n",
            "Epoch 291/340\n",
            "161/161 [==============================] - 46s 285ms/step - loss: 0.0648 - categorical_accuracy: 0.9777 - val_loss: 0.7853 - val_categorical_accuracy: 0.8505\n",
            "Epoch 292/340\n",
            "161/161 [==============================] - 46s 287ms/step - loss: 0.0510 - categorical_accuracy: 0.9871 - val_loss: 0.8300 - val_categorical_accuracy: 0.8424\n",
            "Epoch 293/340\n",
            "161/161 [==============================] - 47s 290ms/step - loss: 0.0520 - categorical_accuracy: 0.9820 - val_loss: 0.9114 - val_categorical_accuracy: 0.8261\n",
            "Epoch 294/340\n",
            "161/161 [==============================] - 46s 288ms/step - loss: 0.0599 - categorical_accuracy: 0.9814 - val_loss: 0.8599 - val_categorical_accuracy: 0.8614\n",
            "Epoch 295/340\n",
            "161/161 [==============================] - 46s 286ms/step - loss: 0.0797 - categorical_accuracy: 0.9800 - val_loss: 0.8793 - val_categorical_accuracy: 0.8587\n",
            "Epoch 296/340\n",
            "161/161 [==============================] - 46s 286ms/step - loss: 0.0635 - categorical_accuracy: 0.9804 - val_loss: 0.8396 - val_categorical_accuracy: 0.8533\n",
            "Epoch 297/340\n",
            "161/161 [==============================] - 46s 285ms/step - loss: 0.0515 - categorical_accuracy: 0.9831 - val_loss: 0.7019 - val_categorical_accuracy: 0.8614\n",
            "Epoch 298/340\n",
            "161/161 [==============================] - 46s 287ms/step - loss: 0.0132 - categorical_accuracy: 0.9980 - val_loss: 0.7623 - val_categorical_accuracy: 0.8614\n",
            "Epoch 299/340\n",
            "161/161 [==============================] - 46s 288ms/step - loss: 0.0057 - categorical_accuracy: 1.0000 - val_loss: 0.8176 - val_categorical_accuracy: 0.8614\n",
            "Epoch 300/340\n",
            "161/161 [==============================] - 46s 286ms/step - loss: 0.0037 - categorical_accuracy: 0.9997 - val_loss: 0.8317 - val_categorical_accuracy: 0.8560\n",
            "Epoch 301/340\n",
            "161/161 [==============================] - 46s 285ms/step - loss: 0.0023 - categorical_accuracy: 0.9999 - val_loss: 0.8560 - val_categorical_accuracy: 0.8560\n",
            "Epoch 302/340\n",
            "161/161 [==============================] - 46s 286ms/step - loss: 0.0024 - categorical_accuracy: 1.0000 - val_loss: 0.8684 - val_categorical_accuracy: 0.8641\n",
            "Epoch 303/340\n",
            "161/161 [==============================] - 46s 287ms/step - loss: 0.0015 - categorical_accuracy: 0.9994 - val_loss: 0.9163 - val_categorical_accuracy: 0.8533\n",
            "Epoch 304/340\n",
            "161/161 [==============================] - 46s 286ms/step - loss: 8.9269e-04 - categorical_accuracy: 1.0000 - val_loss: 0.9693 - val_categorical_accuracy: 0.8505\n",
            "Epoch 305/340\n",
            "161/161 [==============================] - 46s 286ms/step - loss: 8.7080e-04 - categorical_accuracy: 1.0000 - val_loss: 0.9573 - val_categorical_accuracy: 0.8560\n",
            "Epoch 306/340\n",
            "161/161 [==============================] - 46s 286ms/step - loss: 7.1511e-04 - categorical_accuracy: 1.0000 - val_loss: 0.9660 - val_categorical_accuracy: 0.8533\n",
            "Epoch 307/340\n",
            "161/161 [==============================] - 46s 286ms/step - loss: 3.7265e-04 - categorical_accuracy: 0.9999 - val_loss: 0.9951 - val_categorical_accuracy: 0.8560\n",
            "Epoch 308/340\n",
            "161/161 [==============================] - 46s 287ms/step - loss: 3.2223e-04 - categorical_accuracy: 1.0000 - val_loss: 1.0390 - val_categorical_accuracy: 0.8533\n",
            "Epoch 309/340\n",
            "161/161 [==============================] - 46s 288ms/step - loss: 2.2349e-04 - categorical_accuracy: 1.0000 - val_loss: 1.0858 - val_categorical_accuracy: 0.8533\n",
            "Epoch 310/340\n",
            "161/161 [==============================] - 46s 287ms/step - loss: 3.3432e-04 - categorical_accuracy: 1.0000 - val_loss: 1.0662 - val_categorical_accuracy: 0.8505\n",
            "Epoch 311/340\n",
            "161/161 [==============================] - 46s 287ms/step - loss: 2.1840e-04 - categorical_accuracy: 1.0000 - val_loss: 1.1966 - val_categorical_accuracy: 0.8370\n",
            "Epoch 312/340\n",
            "161/161 [==============================] - 46s 287ms/step - loss: 1.2645e-04 - categorical_accuracy: 1.0000 - val_loss: 1.2117 - val_categorical_accuracy: 0.8424\n",
            "Epoch 313/340\n",
            "161/161 [==============================] - 46s 288ms/step - loss: 1.0170e-04 - categorical_accuracy: 1.0000 - val_loss: 1.1708 - val_categorical_accuracy: 0.8533\n",
            "Epoch 314/340\n",
            "161/161 [==============================] - 46s 287ms/step - loss: 7.7875e-05 - categorical_accuracy: 1.0000 - val_loss: 1.2156 - val_categorical_accuracy: 0.8451\n",
            "Epoch 315/340\n",
            "161/161 [==============================] - 46s 286ms/step - loss: 1.0561e-04 - categorical_accuracy: 1.0000 - val_loss: 1.2487 - val_categorical_accuracy: 0.8397\n",
            "Epoch 316/340\n",
            "161/161 [==============================] - 46s 285ms/step - loss: 1.0053e-04 - categorical_accuracy: 1.0000 - val_loss: 1.2878 - val_categorical_accuracy: 0.8397\n",
            "Epoch 317/340\n",
            "161/161 [==============================] - 46s 286ms/step - loss: 5.2257e-05 - categorical_accuracy: 1.0000 - val_loss: 1.3209 - val_categorical_accuracy: 0.8424\n",
            "Epoch 318/340\n",
            "161/161 [==============================] - 46s 287ms/step - loss: 4.7523e-05 - categorical_accuracy: 1.0000 - val_loss: 1.2779 - val_categorical_accuracy: 0.8451\n",
            "Epoch 319/340\n",
            "161/161 [==============================] - 47s 290ms/step - loss: 2.6564e-05 - categorical_accuracy: 1.0000 - val_loss: 1.3553 - val_categorical_accuracy: 0.8451\n",
            "Epoch 320/340\n",
            "161/161 [==============================] - 47s 291ms/step - loss: 5.6356e-05 - categorical_accuracy: 1.0000 - val_loss: 1.3974 - val_categorical_accuracy: 0.8424\n",
            "Epoch 321/340\n",
            "161/161 [==============================] - 46s 286ms/step - loss: 3.3290e-05 - categorical_accuracy: 1.0000 - val_loss: 1.4381 - val_categorical_accuracy: 0.8342\n",
            "Epoch 322/340\n",
            "161/161 [==============================] - 46s 287ms/step - loss: 1.9626e-05 - categorical_accuracy: 1.0000 - val_loss: 1.4501 - val_categorical_accuracy: 0.8370\n",
            "Epoch 323/340\n",
            "161/161 [==============================] - 46s 286ms/step - loss: 2.4631e-05 - categorical_accuracy: 1.0000 - val_loss: 1.4562 - val_categorical_accuracy: 0.8478\n",
            "Epoch 324/340\n",
            "161/161 [==============================] - 47s 289ms/step - loss: 2.1079e-05 - categorical_accuracy: 1.0000 - val_loss: 1.4498 - val_categorical_accuracy: 0.8505\n",
            "Epoch 325/340\n",
            "161/161 [==============================] - 47s 289ms/step - loss: 1.5784e-05 - categorical_accuracy: 1.0000 - val_loss: 1.4362 - val_categorical_accuracy: 0.8505\n",
            "Epoch 326/340\n",
            "161/161 [==============================] - 46s 287ms/step - loss: 2.1409e-05 - categorical_accuracy: 1.0000 - val_loss: 1.4593 - val_categorical_accuracy: 0.8505\n",
            "Epoch 327/340\n",
            "161/161 [==============================] - 46s 288ms/step - loss: 7.3791e-05 - categorical_accuracy: 1.0000 - val_loss: 1.4736 - val_categorical_accuracy: 0.8478\n",
            "Epoch 328/340\n",
            "161/161 [==============================] - 46s 289ms/step - loss: 8.6767e-06 - categorical_accuracy: 1.0000 - val_loss: 1.5008 - val_categorical_accuracy: 0.8451\n",
            "Epoch 329/340\n",
            "161/161 [==============================] - 47s 290ms/step - loss: 1.1965e-05 - categorical_accuracy: 1.0000 - val_loss: 1.5087 - val_categorical_accuracy: 0.8478\n",
            "Epoch 330/340\n",
            "161/161 [==============================] - 46s 289ms/step - loss: 1.9819e-05 - categorical_accuracy: 1.0000 - val_loss: 1.5317 - val_categorical_accuracy: 0.8424\n",
            "Epoch 331/340\n",
            "161/161 [==============================] - 47s 289ms/step - loss: 4.9044e-06 - categorical_accuracy: 1.0000 - val_loss: 1.5722 - val_categorical_accuracy: 0.8397\n",
            "Epoch 332/340\n",
            "161/161 [==============================] - 46s 288ms/step - loss: 5.0655e-05 - categorical_accuracy: 1.0000 - val_loss: 1.5230 - val_categorical_accuracy: 0.8505\n",
            "Epoch 333/340\n",
            "161/161 [==============================] - 46s 287ms/step - loss: 5.2591e-06 - categorical_accuracy: 1.0000 - val_loss: 1.5807 - val_categorical_accuracy: 0.8451\n",
            "Epoch 334/340\n",
            "161/161 [==============================] - 46s 288ms/step - loss: 4.6449e-06 - categorical_accuracy: 1.0000 - val_loss: 1.6390 - val_categorical_accuracy: 0.8424\n",
            "Epoch 335/340\n",
            "161/161 [==============================] - 46s 288ms/step - loss: 5.6528e-06 - categorical_accuracy: 1.0000 - val_loss: 1.6612 - val_categorical_accuracy: 0.8478\n",
            "Epoch 336/340\n",
            "161/161 [==============================] - 46s 287ms/step - loss: 1.6857e-05 - categorical_accuracy: 1.0000 - val_loss: 1.7489 - val_categorical_accuracy: 0.8478\n",
            "Epoch 337/340\n",
            "161/161 [==============================] - 46s 286ms/step - loss: 3.3709e-06 - categorical_accuracy: 1.0000 - val_loss: 1.7077 - val_categorical_accuracy: 0.8424\n",
            "Epoch 338/340\n",
            "161/161 [==============================] - 46s 287ms/step - loss: 3.8954e-06 - categorical_accuracy: 1.0000 - val_loss: 1.7477 - val_categorical_accuracy: 0.8478\n",
            "Epoch 339/340\n",
            "161/161 [==============================] - 46s 288ms/step - loss: 0.0010 - categorical_accuracy: 0.9998 - val_loss: 1.7325 - val_categorical_accuracy: 0.8451\n",
            "Epoch 340/340\n",
            "161/161 [==============================] - 46s 288ms/step - loss: 2.2541e-06 - categorical_accuracy: 1.0000 - val_loss: 1.8051 - val_categorical_accuracy: 0.8424\n"
          ]
        }
      ],
      "source": [
        "# Initializing the model\n",
        "\n",
        "model = Sequential()\n",
        "model.add(layers.LSTM(64, return_sequences = True, input_shape=(X.shape[1:3])))\n",
        "model.add(layers.LSTM(64))\n",
        "model.add(layers.Dense(8, activation = 'softmax'))\n",
        "print(model.summary())\n",
        "\n",
        "batch_size = 23\n",
        "\n",
        "# Callbacks functions\n",
        "checkpoint_path = '/content/drive/My Drive/Colab Notebooks/best_weights.hdf5'\n",
        "\n",
        "#-> Save the best weights\n",
        "mcp_save = callbacks.ModelCheckpoint(checkpoint_path, save_best_only=True,\n",
        "                           monitor='val_categorical_accuracy',\n",
        "                           mode='max')\n",
        "#-> Reduce learning rate after 100 epoches without improvement.\n",
        "rlrop = callbacks.ReduceLROnPlateau(monitor='val_categorical_accuracy', \n",
        "                                    factor=0.1, patience=100)\n",
        "                             \n",
        "# Compile & train   \n",
        "model.compile(loss='categorical_crossentropy', \n",
        "                optimizer='RMSProp', \n",
        "                metrics=['categorical_accuracy'])\n",
        "\n",
        "history = model.fit(x_train, y_train_class, \n",
        "                      epochs=340, batch_size = batch_size, \n",
        "                      validation_data = (x_val, y_val_class), \n",
        "                      callbacks = [mcp_save, rlrop])\n",
        "# Define the best weights to the model.\n",
        "model.load_weights(checkpoint_path)"
      ]
    },
    {
      "cell_type": "markdown",
      "metadata": {
        "id": "hhLv7IhO8Inf"
      },
      "source": [
        "# **MODEL EVALUATION**\n",
        "The model has been evaluated using the following factors:\n",
        "\n",
        "\n",
        "1.   A visualization of the loss and categorial accuracy values trend during the train process.\n",
        "2.   A confusion matrix for visualizing the number of successful predictions of each emotion: for validation and test sets.\n",
        "3.   Model's prediction accuracy rates for each emotion: for validation and test sets.\n"
      ]
    },
    {
      "cell_type": "code",
      "execution_count": null,
      "metadata": {
        "id": "t3xnV1S7ra_Y"
      },
      "outputs": [],
      "source": [
        "from sklearn.metrics import confusion_matrix\n",
        "import seaborn as sns\n",
        "import matplotlib.pyplot as plt "
      ]
    },
    {
      "cell_type": "markdown",
      "metadata": {
        "id": "4PMvuwoL_nfw"
      },
      "source": [
        "## **Train (fit) Visualization**"
      ]
    },
    {
      "cell_type": "code",
      "execution_count": null,
      "metadata": {
        "colab": {
          "base_uri": "https://localhost:8080/",
          "height": 573
        },
        "id": "nu3eLmdtNlCF",
        "outputId": "741c353a-43d4-44ef-cf42-a04d55db05db"
      },
      "outputs": [
        {
          "data": {
            "image/png": "[encoded data removed]",
            "text/plain": [
              "<Figure size 432x288 with 1 Axes>"
            ]
          },
          "metadata": {
            "needs_background": "light",
            "tags": []
          },
          "output_type": "display_data"
        },
        {
          "data": {
            "image/png": "[encoded data removed]",
            "text/plain": [
              "<Figure size 432x288 with 1 Axes>"
            ]
          },
          "metadata": {
            "needs_background": "light",
            "tags": []
          },
          "output_type": "display_data"
        }
      ],
      "source": [
        "# Loss, Accuracy presentation\n",
        "\n",
        "# Plot history: Loss\n",
        "plt.plot(history.history['loss'], label='Loss (training data)')\n",
        "plt.plot(history.history['val_loss'], label='Loss (validation data)')\n",
        "plt.title('Loss for train and validation')\n",
        "plt.ylabel('Loss value')\n",
        "plt.xlabel('No. epoch')\n",
        "plt.legend(loc=\"upper left\")\n",
        "plt.show()\n",
        "\n",
        "#Plot history: Accuracy\n",
        "plt.plot(history.history['categorical_accuracy'], label='Acc (training data)')\n",
        "plt.plot(history.history['val_categorical_accuracy'], label='Acc (validation data)')\n",
        "plt.title('Model accuracy')\n",
        "plt.ylabel('Acc %')\n",
        "plt.xlabel('No. epoch')\n",
        "plt.legend(loc=\"upper left\")\n",
        "plt.show()"
      ]
    },
    {
      "cell_type": "markdown",
      "metadata": {
        "id": "nuQhnujiAXRe"
      },
      "source": [
        "## **Validation Set Evaluation**"
      ]
    },
    {
      "cell_type": "markdown",
      "metadata": {
        "id": "GgvK5IJmA9Tv"
      },
      "source": [
        "**Val Set Score**"
      ]
    },
    {
      "cell_type": "code",
      "execution_count": null,
      "metadata": {
        "colab": {
          "base_uri": "https://localhost:8080/"
        },
        "id": "Bc6qcBGOMHv7",
        "outputId": "c1c4785e-ddcb-4cc2-ca80-f9a07455e3ab"
      },
      "outputs": [
        {
          "name": "stdout",
          "output_type": "stream",
          "text": [
            "12/12 - 2s - loss: 0.5993 - categorical_accuracy: 0.8723\n"
          ]
        }
      ],
      "source": [
        "# Validation score\n",
        "loss,acc = model.evaluate(x_val, y_val_class, verbose=2)"
      ]
    },
    {
      "cell_type": "markdown",
      "metadata": {
        "id": "Rlu9rUnT_vjB"
      },
      "source": [
        "**Val Set Confussion Matrix**"
      ]
    },
    {
      "cell_type": "code",
      "execution_count": null,
      "metadata": {
        "colab": {
          "base_uri": "https://localhost:8080/",
          "height": 514
        },
        "id": "3Icd1yFHra_Z",
        "outputId": "84bf81c6-84f8-4bd0-9a65-e6e87fb697f9"
      },
      "outputs": [
        {
          "data": {
            "text/plain": [
              "Text(0.5, 51.0, 'Predicted emotion')"
            ]
          },
          "execution_count": 12,
          "metadata": {
            "tags": []
          },
          "output_type": "execute_result"
        },
        {
          "data": {
            "image/png": "[encoded data removed]",
            "text/plain": [
              "<Figure size 864x576 with 2 Axes>"
            ]
          },
          "metadata": {
            "needs_background": "light",
            "tags": []
          },
          "output_type": "display_data"
        }
      ],
      "source": [
        "# Validation Confusion matrix\n",
        "\n",
        "y_val_class = np.argmax(y_val_class, axis=1)\n",
        "predictions = model.predict(x_val)\n",
        "y_pred_class = np.argmax(predictions, axis=1)\n",
        "\n",
        "cm=confusion_matrix(y_val_class, y_pred_class)\n",
        "\n",
        "index = ['neutral', 'calm', 'happy', 'sad', 'angry', 'fearful', 'disgust', 'surprised']  \n",
        "columns = ['neutral', 'calm', 'happy', 'sad', 'angry', 'fearful', 'disgust', 'surprised']  \n",
        " \n",
        "cm_df = pd.DataFrame(cm,index,columns)                      \n",
        "plt.figure(figsize=(12,8))\n",
        "ax = plt.axes()\n",
        "\n",
        "sns.heatmap(cm_df, ax = ax, cmap = 'PuBu', fmt=\"d\", annot=True)\n",
        "ax.set_ylabel('True emotion')\n",
        "ax.set_xlabel('Predicted emotion')"
      ]
    },
    {
      "cell_type": "markdown",
      "metadata": {
        "id": "m0TNmOTy_3D2"
      },
      "source": [
        "**Validation Set Predicted emotions accuracy**"
      ]
    },
    {
      "cell_type": "code",
      "execution_count": null,
      "metadata": {
        "colab": {
          "base_uri": "https://localhost:8080/"
        },
        "id": "j70DNePpra_c",
        "outputId": "c14ab26e-5544-4fd1-c462-3033694983dd"
      },
      "outputs": [
        {
          "name": "stdout",
          "output_type": "stream",
          "text": [
            "Validation set predicted emotions accuracy:\n",
            "neutral : 0.8919\n",
            "calm : 0.6154\n",
            "happy : 0.8333\n",
            "sad : 0.8387\n",
            "angry : 0.9608\n",
            "fearful : 0.8667\n",
            "disgust : 0.9286\n",
            "surprised : 0.8919\n"
          ]
        }
      ],
      "source": [
        "# Validation set prediction accuracy rates\n",
        "\n",
        "values = cm.diagonal()\n",
        "row_sum = np.sum(cm,axis=1)\n",
        "acc = values / row_sum\n",
        "\n",
        "print('Validation set predicted emotions accuracy:')\n",
        "for e in range(0, len(values)):\n",
        "    print(index[e],':', f\"{(acc[e]):0.4f}\")"
      ]
    },
    {
      "cell_type": "markdown",
      "metadata": {
        "id": "Gv9LdSWcfuWb"
      },
      "source": [
        "## **Save & Load model, weights**\n"
      ]
    },
    {
      "cell_type": "code",
      "execution_count": null,
      "metadata": {
        "id": "8ybMruIrra_d"
      },
      "outputs": [],
      "source": [
        "# Saving model & weights\n",
        "\n",
        "from keras.models import model_from_json\n",
        "from keras.models import load_model\n",
        "\n",
        "model_json = model.to_json()\n",
        "saved_model_path = '/content/drive/My Drive/Colab Notebooks/model8723.json'\n",
        "saved_weights_path = '/content/drive/My Drive/Colab Notebooks/model8723_weights.h5'\n",
        "\n",
        "\n",
        "with open(saved_model_path, \"w\") as json_file:\n",
        "    json_file.write(model_json)\n",
        "    \n",
        "model.save_weights(saved_weights_path)\n",
        "print(\"Saved model to disk\")\n"
      ]
    },
    {
      "cell_type": "code",
      "execution_count": null,
      "metadata": {
        "colab": {
          "base_uri": "https://localhost:8080/",
          "height": 422
        },
        "id": "7CvsDF6cOa3z",
        "outputId": "57ff07aa-cc3b-4ec3-e038-b1d022e6156c"
      },
      "outputs": [
        {
          "data": {
            "image/png": "[encoded data removed]",
            "text/plain": [
              "<IPython.core.display.Image object>"
            ]
          },
          "execution_count": 4,
          "metadata": {
            "tags": []
          },
          "output_type": "execute_result"
        }
      ],
      "source": [
        "# Reading the model from JSON file\n",
        "\n",
        "saved_model_path = '/content/drive/My Drive/Colab Notebooks/model8723.json'\n",
        "saved_weights_path = '/content/drive/My Drive/Colab Notebooks/model8723_weights.h5'\n",
        "\n",
        "with open(saved_model_path , 'r') as json_file:\n",
        "    json_savedModel = json_file.read()\n",
        "    \n",
        "# Loading the model architecture, weights\n",
        "model = tf.keras.models.model_from_json(json_savedModel)\n",
        "model.load_weights(saved_weights_path)\n",
        "\n",
        "# Compiling the model with similar parameters as the original model.\n",
        "model.compile(loss='categorical_crossentropy', \n",
        "                optimizer='RMSProp', \n",
        "                metrics=['categorical_accuracy'])\n",
        "\n",
        "# Model's structure visualization\n",
        "tf.keras.utils.plot_model(model, to_file='model.png', show_shapes=True, show_layer_names=True)"
      ]
    },
    {
      "cell_type": "code",
      "execution_count": null,
      "metadata": {
        "id": "9aw0_8VfOa30"
      },
      "outputs": [],
      "source": [
        "# Loading x_test, y_test json files, and converting to np.arrays\n",
        "\n",
        "x_test = load( 'x_test_data.json')\n",
        "x_test = np.asarray(x_test).astype('float32')\n",
        "\n",
        "y_test = load('y_test_data.json')\n",
        "y_test = np.asarray(y_test).astype('int8')\n",
        "\n",
        "y_test_class = tf.keras.utils.to_categorical(y_test, 8, dtype = 'int8')"
      ]
    },
    {
      "cell_type": "markdown",
      "metadata": {
        "id": "6gI4LShDAIIm"
      },
      "source": [
        "## **Test Set Evaluation**"
      ]
    },
    {
      "cell_type": "markdown",
      "metadata": {
        "id": "PvGRP5ZMBKpz"
      },
      "source": [
        "**Test Set Score**"
      ]
    },
    {
      "cell_type": "code",
      "execution_count": null,
      "metadata": {
        "id": "b56-z_GUOa31",
        "outputId": "bd313c2f-f11d-4600-f1b7-1f8e6761253e"
      },
      "outputs": [
        {
          "name": "stdout",
          "output_type": "stream",
          "text": [
            "6/6 - 1s - loss: 0.5561 - categorical_accuracy: 0.8447\n"
          ]
        }
      ],
      "source": [
        "loss, acc = model.evaluate(x_test, y_test_class, verbose=2)"
      ]
    },
    {
      "cell_type": "markdown",
      "metadata": {
        "id": "MCZ384rgBNeT"
      },
      "source": [
        "**Test Set Confussion Matrix**"
      ]
    },
    {
      "cell_type": "code",
      "execution_count": null,
      "metadata": {
        "id": "9ssa4HRVOa31",
        "outputId": "4d2657e5-36f4-49cd-ded4-39e94f86a64a"
      },
      "outputs": [
        {
          "data": {
            "text/plain": [
              "Text(0.5, 51.0, 'Predicted emotion')"
            ]
          },
          "execution_count": 21,
          "metadata": {
            "tags": []
          },
          "output_type": "execute_result"
        },
        {
          "data": {
            "image/png": "[encoded data removed]",
            "text/plain": [
              "<Figure size 864x576 with 2 Axes>"
            ]
          },
          "metadata": {
            "needs_background": "light",
            "tags": []
          },
          "output_type": "display_data"
        }
      ],
      "source": [
        "# Test set Confusion matrix\n",
        "\n",
        "y_test_class = np.argmax(y_test_class, axis=1)\n",
        "predictions = model.predict(x_test)\n",
        "y_pred_class = np.argmax(predictions, axis=1)\n",
        "\n",
        "cm=confusion_matrix(y_test_class, y_pred_class)\n",
        "\n",
        "index = ['neutral', 'calm', 'happy', 'sad', 'angry', 'fearful', 'disgust', 'surprised']  \n",
        "columns = ['neutral', 'calm', 'happy', 'sad', 'angry', 'fearful', 'disgust', 'surprised']  \n",
        " \n",
        "cm_df = pd.DataFrame(cm,index,columns)                      \n",
        "plt.figure(figsize=(12,8))\n",
        "ax = plt.axes()\n",
        "\n",
        "sns.heatmap(cm_df, ax = ax, cmap = 'BuGn', fmt=\"d\", annot=True)\n",
        "ax.set_ylabel('True emotion')\n",
        "ax.set_xlabel('Predicted emotion')"
      ]
    },
    {
      "cell_type": "markdown",
      "metadata": {
        "id": "-Lm8suD-BUrl"
      },
      "source": [
        "**Test Set Predicted emotions accuracy**"
      ]
    },
    {
      "cell_type": "code",
      "execution_count": null,
      "metadata": {
        "id": "Hwbkmv2yOa32",
        "outputId": "7240b418-c619-4df9-f077-0361f0f452f1"
      },
      "outputs": [
        {
          "name": "stdout",
          "output_type": "stream",
          "text": [
            "Test set predicted emotions accuracy:\n",
            "neutral : 0.8947\n",
            "calm : 0.8000\n",
            "happy : 0.9524\n",
            "sad : 0.8696\n",
            "angry : 0.8462\n",
            "fearful : 0.7778\n",
            "disgust : 0.8696\n",
            "surprised : 0.7143\n"
          ]
        }
      ],
      "source": [
        "# Test set prediction accuracy rates\n",
        "\n",
        "values = cm.diagonal()\n",
        "row_sum = np.sum(cm,axis=1)\n",
        "acc = values / row_sum\n",
        "\n",
        "print('Test set predicted emotions accuracy:')\n",
        "for e in range(0, len(values)):\n",
        "    print(index[e],':', f\"{(acc[e]):0.4f}\")"
      ]
    },
    {
      "cell_type": "markdown",
      "metadata": {
        "id": "L_2dMqF6lFtx"
      },
      "source": [
        "# **RESULTS & CONCLUSIONS**\n",
        "As seen, the validation set accuracy of the model had come up to 87.23% and the test set accuracy had reached 84.47% with overfitting in the training process starting around the 100th epoch. Although various regulations have been placed in earlier tryouts, they had restricted the accuracy from reaching its maximum value. A ModelCheckpoint is applied, saving the best weights according to the model's accuracy, thus the overfitting is bypassed. \n",
        "\n",
        "Within the next part of the study in which the model will be used as a Real-time SER, The inputs will be processed similarly as the data used by the model, to gain similarity and therefore, precision. "
      ]
    }
  ],
  "metadata": {
    "colab": {
      "collapsed_sections": [],
      "include_colab_link": true,
      "name": "2_model.ipynb",
      "provenance": [],
      "toc_visible": true
    },
    "kernelspec": {
      "display_name": "Python 3",
      "language": "python",
      "name": "python3"
    },
    "language_info": {
      "codemirror_mode": {
        "name": "ipython",
        "version": 3
      },
      "file_extension": ".py",
      "mimetype": "text/x-python",
      "name": "python",
      "nbconvert_exporter": "python",
      "pygments_lexer": "ipython3",
      "version": "3.8.5"
    }
  },
  "nbformat": 4,
  "nbformat_minor": 0
}
